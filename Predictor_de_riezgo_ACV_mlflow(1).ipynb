{
  "cells": [
    {
      "cell_type": "markdown",
      "metadata": {
        "id": "view-in-github",
        "colab_type": "text"
      },
      "source": [
        "<a href=\"https://colab.research.google.com/github/EugeniaBar/Proyectoscompletos/blob/main/Predictor_de_riezgo_ACV_mlflow(1).ipynb\" target=\"_parent\"><img src=\"https://colab.research.google.com/assets/colab-badge.svg\" alt=\"Open In Colab\"/></a>"
      ]
    },
    {
      "cell_type": "code",
      "execution_count": null,
      "id": "9f0fed51",
      "metadata": {
        "collapsed": true,
        "jupyter": {
          "outputs_hidden": true
        },
        "scrolled": true,
        "id": "9f0fed51",
        "outputId": "7764cfcc-d734-48d2-9be0-d0e0f69fed88"
      },
      "outputs": [
        {
          "name": "stdout",
          "output_type": "stream",
          "text": [
            "Note: you may need to restart the kernel to use updated packages.Collecting seaborn\n",
            "  Downloading seaborn-0.13.2-py3-none-any.whl.metadata (5.4 kB)\n",
            "Requirement already satisfied: numpy!=1.24.0,>=1.20 in c:\\users\\fgurr\\appdata\\local\\programs\\python\\python310\\lib\\site-packages (from seaborn) (1.26.4)\n",
            "Requirement already satisfied: pandas>=1.2 in c:\\users\\fgurr\\appdata\\local\\programs\\python\\python310\\lib\\site-packages (from seaborn) (1.5.1)\n",
            "Requirement already satisfied: matplotlib!=3.6.1,>=3.4 in c:\\users\\fgurr\\appdata\\local\\programs\\python\\python310\\lib\\site-packages (from seaborn) (3.6.3)\n",
            "Requirement already satisfied: contourpy>=1.0.1 in c:\\users\\fgurr\\appdata\\local\\programs\\python\\python310\\lib\\site-packages (from matplotlib!=3.6.1,>=3.4->seaborn) (1.0.6)\n",
            "Requirement already satisfied: cycler>=0.10 in c:\\users\\fgurr\\appdata\\local\\programs\\python\\python310\\lib\\site-packages (from matplotlib!=3.6.1,>=3.4->seaborn) (0.11.0)\n",
            "Requirement already satisfied: fonttools>=4.22.0 in c:\\users\\fgurr\\appdata\\local\\programs\\python\\python310\\lib\\site-packages (from matplotlib!=3.6.1,>=3.4->seaborn) (4.38.0)\n",
            "Requirement already satisfied: kiwisolver>=1.0.1 in c:\\users\\fgurr\\appdata\\local\\programs\\python\\python310\\lib\\site-packages (from matplotlib!=3.6.1,>=3.4->seaborn) (1.4.4)\n",
            "Requirement already satisfied: packaging>=20.0 in c:\\users\\fgurr\\appdata\\local\\programs\\python\\python310\\lib\\site-packages (from matplotlib!=3.6.1,>=3.4->seaborn) (23.0)\n",
            "Requirement already satisfied: pillow>=6.2.0 in c:\\users\\fgurr\\appdata\\local\\programs\\python\\python310\\lib\\site-packages (from matplotlib!=3.6.1,>=3.4->seaborn) (9.4.0)\n",
            "Requirement already satisfied: pyparsing>=2.2.1 in c:\\users\\fgurr\\appdata\\local\\programs\\python\\python310\\lib\\site-packages (from matplotlib!=3.6.1,>=3.4->seaborn) (3.0.9)\n",
            "Requirement already satisfied: python-dateutil>=2.7 in c:\\users\\fgurr\\appdata\\local\\programs\\python\\python310\\lib\\site-packages (from matplotlib!=3.6.1,>=3.4->seaborn) (2.8.2)\n",
            "Requirement already satisfied: pytz>=2020.1 in c:\\users\\fgurr\\appdata\\local\\programs\\python\\python310\\lib\\site-packages (from pandas>=1.2->seaborn) (2022.6)\n",
            "Requirement already satisfied: six>=1.5 in c:\\users\\fgurr\\appdata\\local\\programs\\python\\python310\\lib\\site-packages (from python-dateutil>=2.7->matplotlib!=3.6.1,>=3.4->seaborn) (1.16.0)\n",
            "Downloading seaborn-0.13.2-py3-none-any.whl (294 kB)\n",
            "Installing collected packages: seaborn\n",
            "Successfully installed seaborn-0.13.2\n",
            "\n"
          ]
        },
        {
          "name": "stderr",
          "output_type": "stream",
          "text": [
            "WARNING: Ignoring invalid distribution -ip (c:\\users\\fgurr\\appdata\\local\\programs\\python\\python310\\lib\\site-packages)\n",
            "WARNING: Ignoring invalid distribution -ip (c:\\users\\fgurr\\appdata\\local\\programs\\python\\python310\\lib\\site-packages)\n",
            "WARNING: Ignoring invalid distribution -ip (c:\\users\\fgurr\\appdata\\local\\programs\\python\\python310\\lib\\site-packages)\n"
          ]
        }
      ],
      "source": [
        "pip install seaborn"
      ]
    },
    {
      "cell_type": "code",
      "execution_count": null,
      "id": "7efaf864-f760-4d4d-ae76-62600daa0693",
      "metadata": {
        "scrolled": true,
        "id": "7efaf864-f760-4d4d-ae76-62600daa0693",
        "outputId": "34338ba4-03ba-4501-fab4-1203a663b0f8"
      },
      "outputs": [
        {
          "name": "stdout",
          "output_type": "stream",
          "text": [
            "Collecting mlflow\n",
            "  Downloading mlflow-2.22.1-py3-none-any.whl.metadata (30 kB)\n",
            "Collecting mlflow-skinny==2.22.1 (from mlflow)\n",
            "  Downloading mlflow_skinny-2.22.1-py3-none-any.whl.metadata (31 kB)\n",
            "Requirement already satisfied: Flask<4 in c:\\users\\fgurr\\anaconda3\\lib\\site-packages (from mlflow) (3.0.3)\n",
            "Requirement already satisfied: Jinja2<4,>=3.0 in c:\\users\\fgurr\\anaconda3\\lib\\site-packages (from mlflow) (3.1.4)\n",
            "Collecting alembic!=1.10.0,<2 (from mlflow)\n",
            "  Downloading alembic-1.16.1-py3-none-any.whl.metadata (7.3 kB)\n",
            "Collecting docker<8,>=4.0.0 (from mlflow)\n",
            "  Downloading docker-7.1.0-py3-none-any.whl.metadata (3.8 kB)\n",
            "Collecting graphene<4 (from mlflow)\n",
            "  Downloading graphene-3.4.3-py2.py3-none-any.whl.metadata (6.9 kB)\n",
            "Requirement already satisfied: markdown<4,>=3.3 in c:\\users\\fgurr\\anaconda3\\lib\\site-packages (from mlflow) (3.4.1)\n",
            "Requirement already satisfied: matplotlib<4 in c:\\users\\fgurr\\anaconda3\\lib\\site-packages (from mlflow) (3.8.4)\n",
            "Requirement already satisfied: numpy<3 in c:\\users\\fgurr\\anaconda3\\lib\\site-packages (from mlflow) (1.26.4)\n",
            "Requirement already satisfied: pandas!=2.3.0,<3 in c:\\users\\fgurr\\anaconda3\\lib\\site-packages (from mlflow) (2.2.2)\n",
            "Requirement already satisfied: pyarrow<20,>=4.0.0 in c:\\users\\fgurr\\anaconda3\\lib\\site-packages (from mlflow) (14.0.2)\n",
            "Requirement already satisfied: scikit-learn<2 in c:\\users\\fgurr\\anaconda3\\lib\\site-packages (from mlflow) (1.4.2)\n",
            "Requirement already satisfied: scipy<2 in c:\\users\\fgurr\\anaconda3\\lib\\site-packages (from mlflow) (1.13.1)\n",
            "Requirement already satisfied: sqlalchemy<3,>=1.4.0 in c:\\users\\fgurr\\anaconda3\\lib\\site-packages (from mlflow) (2.0.30)\n",
            "Collecting waitress<4 (from mlflow)\n",
            "  Downloading waitress-3.0.2-py3-none-any.whl.metadata (5.8 kB)\n",
            "Requirement already satisfied: cachetools<6,>=5.0.0 in c:\\users\\fgurr\\anaconda3\\lib\\site-packages (from mlflow-skinny==2.22.1->mlflow) (5.3.3)\n",
            "Requirement already satisfied: click<9,>=7.0 in c:\\users\\fgurr\\anaconda3\\lib\\site-packages (from mlflow-skinny==2.22.1->mlflow) (8.1.7)\n",
            "Requirement already satisfied: cloudpickle<4 in c:\\users\\fgurr\\anaconda3\\lib\\site-packages (from mlflow-skinny==2.22.1->mlflow) (2.2.1)\n",
            "Collecting databricks-sdk<1,>=0.20.0 (from mlflow-skinny==2.22.1->mlflow)\n",
            "  Downloading databricks_sdk-0.56.0-py3-none-any.whl.metadata (39 kB)\n",
            "Collecting fastapi<1 (from mlflow-skinny==2.22.1->mlflow)\n",
            "  Downloading fastapi-0.115.12-py3-none-any.whl.metadata (27 kB)\n",
            "Requirement already satisfied: gitpython<4,>=3.1.9 in c:\\users\\fgurr\\anaconda3\\lib\\site-packages (from mlflow-skinny==2.22.1->mlflow) (3.1.37)\n",
            "Requirement already satisfied: importlib_metadata!=4.7.0,<9,>=3.7.0 in c:\\users\\fgurr\\anaconda3\\lib\\site-packages (from mlflow-skinny==2.22.1->mlflow) (7.0.1)\n",
            "Collecting opentelemetry-api<3,>=1.9.0 (from mlflow-skinny==2.22.1->mlflow)\n",
            "  Downloading opentelemetry_api-1.34.1-py3-none-any.whl.metadata (1.5 kB)\n",
            "Collecting opentelemetry-sdk<3,>=1.9.0 (from mlflow-skinny==2.22.1->mlflow)\n",
            "  Downloading opentelemetry_sdk-1.34.1-py3-none-any.whl.metadata (1.6 kB)\n",
            "Requirement already satisfied: packaging<25 in c:\\users\\fgurr\\anaconda3\\lib\\site-packages (from mlflow-skinny==2.22.1->mlflow) (23.2)\n",
            "Requirement already satisfied: protobuf<7,>=3.12.0 in c:\\users\\fgurr\\anaconda3\\lib\\site-packages (from mlflow-skinny==2.22.1->mlflow) (3.20.3)\n",
            "Requirement already satisfied: pydantic<3,>=1.10.8 in c:\\users\\fgurr\\anaconda3\\lib\\site-packages (from mlflow-skinny==2.22.1->mlflow) (2.5.3)\n",
            "Requirement already satisfied: pyyaml<7,>=5.1 in c:\\users\\fgurr\\anaconda3\\lib\\site-packages (from mlflow-skinny==2.22.1->mlflow) (6.0.1)\n",
            "Requirement already satisfied: requests<3,>=2.17.3 in c:\\users\\fgurr\\anaconda3\\lib\\site-packages (from mlflow-skinny==2.22.1->mlflow) (2.32.2)\n",
            "Collecting sqlparse<1,>=0.4.0 (from mlflow-skinny==2.22.1->mlflow)\n",
            "  Downloading sqlparse-0.5.3-py3-none-any.whl.metadata (3.9 kB)\n",
            "Requirement already satisfied: typing-extensions<5,>=4.0.0 in c:\\users\\fgurr\\anaconda3\\lib\\site-packages (from mlflow-skinny==2.22.1->mlflow) (4.11.0)\n",
            "Collecting uvicorn<1 (from mlflow-skinny==2.22.1->mlflow)\n",
            "  Downloading uvicorn-0.34.3-py3-none-any.whl.metadata (6.5 kB)\n",
            "Collecting Mako (from alembic!=1.10.0,<2->mlflow)\n",
            "  Downloading mako-1.3.10-py3-none-any.whl.metadata (2.9 kB)\n",
            "Collecting typing-extensions<5,>=4.0.0 (from mlflow-skinny==2.22.1->mlflow)\n",
            "  Downloading typing_extensions-4.14.0-py3-none-any.whl.metadata (3.0 kB)\n",
            "Requirement already satisfied: pywin32>=304 in c:\\users\\fgurr\\anaconda3\\lib\\site-packages (from docker<8,>=4.0.0->mlflow) (305.1)\n",
            "Requirement already satisfied: urllib3>=1.26.0 in c:\\users\\fgurr\\anaconda3\\lib\\site-packages (from docker<8,>=4.0.0->mlflow) (2.2.2)\n",
            "Requirement already satisfied: Werkzeug>=3.0.0 in c:\\users\\fgurr\\anaconda3\\lib\\site-packages (from Flask<4->mlflow) (3.0.3)\n",
            "Requirement already satisfied: itsdangerous>=2.1.2 in c:\\users\\fgurr\\anaconda3\\lib\\site-packages (from Flask<4->mlflow) (2.2.0)\n",
            "Requirement already satisfied: blinker>=1.6.2 in c:\\users\\fgurr\\anaconda3\\lib\\site-packages (from Flask<4->mlflow) (1.6.2)\n",
            "Collecting graphql-core<3.3,>=3.1 (from graphene<4->mlflow)\n",
            "  Downloading graphql_core-3.2.6-py3-none-any.whl.metadata (11 kB)\n",
            "Collecting graphql-relay<3.3,>=3.1 (from graphene<4->mlflow)\n",
            "  Downloading graphql_relay-3.2.0-py3-none-any.whl.metadata (12 kB)\n",
            "Requirement already satisfied: python-dateutil<3,>=2.7.0 in c:\\users\\fgurr\\anaconda3\\lib\\site-packages (from graphene<4->mlflow) (2.9.0.post0)\n",
            "Requirement already satisfied: MarkupSafe>=2.0 in c:\\users\\fgurr\\anaconda3\\lib\\site-packages (from Jinja2<4,>=3.0->mlflow) (2.1.3)\n",
            "Requirement already satisfied: contourpy>=1.0.1 in c:\\users\\fgurr\\anaconda3\\lib\\site-packages (from matplotlib<4->mlflow) (1.2.0)\n",
            "Requirement already satisfied: cycler>=0.10 in c:\\users\\fgurr\\anaconda3\\lib\\site-packages (from matplotlib<4->mlflow) (0.11.0)\n",
            "Requirement already satisfied: fonttools>=4.22.0 in c:\\users\\fgurr\\anaconda3\\lib\\site-packages (from matplotlib<4->mlflow) (4.51.0)\n",
            "Requirement already satisfied: kiwisolver>=1.3.1 in c:\\users\\fgurr\\anaconda3\\lib\\site-packages (from matplotlib<4->mlflow) (1.4.4)\n",
            "Requirement already satisfied: pillow>=8 in c:\\users\\fgurr\\anaconda3\\lib\\site-packages (from matplotlib<4->mlflow) (10.3.0)\n",
            "Requirement already satisfied: pyparsing>=2.3.1 in c:\\users\\fgurr\\anaconda3\\lib\\site-packages (from matplotlib<4->mlflow) (3.0.9)\n",
            "Requirement already satisfied: pytz>=2020.1 in c:\\users\\fgurr\\anaconda3\\lib\\site-packages (from pandas!=2.3.0,<3->mlflow) (2024.1)\n",
            "Requirement already satisfied: tzdata>=2022.7 in c:\\users\\fgurr\\anaconda3\\lib\\site-packages (from pandas!=2.3.0,<3->mlflow) (2023.3)\n",
            "Requirement already satisfied: joblib>=1.2.0 in c:\\users\\fgurr\\anaconda3\\lib\\site-packages (from scikit-learn<2->mlflow) (1.4.2)\n",
            "Requirement already satisfied: threadpoolctl>=2.0.0 in c:\\users\\fgurr\\anaconda3\\lib\\site-packages (from scikit-learn<2->mlflow) (2.2.0)\n",
            "Requirement already satisfied: greenlet!=0.4.17 in c:\\users\\fgurr\\anaconda3\\lib\\site-packages (from sqlalchemy<3,>=1.4.0->mlflow) (3.0.1)\n",
            "Requirement already satisfied: colorama in c:\\users\\fgurr\\anaconda3\\lib\\site-packages (from click<9,>=7.0->mlflow-skinny==2.22.1->mlflow) (0.4.6)\n",
            "Collecting google-auth~=2.0 (from databricks-sdk<1,>=0.20.0->mlflow-skinny==2.22.1->mlflow)\n",
            "  Downloading google_auth-2.40.3-py2.py3-none-any.whl.metadata (6.2 kB)\n",
            "Collecting starlette<0.47.0,>=0.40.0 (from fastapi<1->mlflow-skinny==2.22.1->mlflow)\n",
            "  Downloading starlette-0.46.2-py3-none-any.whl.metadata (6.2 kB)\n",
            "Requirement already satisfied: gitdb<5,>=4.0.1 in c:\\users\\fgurr\\anaconda3\\lib\\site-packages (from gitpython<4,>=3.1.9->mlflow-skinny==2.22.1->mlflow) (4.0.7)\n",
            "Requirement already satisfied: zipp>=0.5 in c:\\users\\fgurr\\anaconda3\\lib\\site-packages (from importlib_metadata!=4.7.0,<9,>=3.7.0->mlflow-skinny==2.22.1->mlflow) (3.17.0)\n",
            "Collecting opentelemetry-semantic-conventions==0.55b1 (from opentelemetry-sdk<3,>=1.9.0->mlflow-skinny==2.22.1->mlflow)\n",
            "  Downloading opentelemetry_semantic_conventions-0.55b1-py3-none-any.whl.metadata (2.5 kB)\n",
            "Requirement already satisfied: annotated-types>=0.4.0 in c:\\users\\fgurr\\anaconda3\\lib\\site-packages (from pydantic<3,>=1.10.8->mlflow-skinny==2.22.1->mlflow) (0.6.0)\n",
            "Requirement already satisfied: pydantic-core==2.14.6 in c:\\users\\fgurr\\anaconda3\\lib\\site-packages (from pydantic<3,>=1.10.8->mlflow-skinny==2.22.1->mlflow) (2.14.6)\n",
            "Requirement already satisfied: six>=1.5 in c:\\users\\fgurr\\anaconda3\\lib\\site-packages (from python-dateutil<3,>=2.7.0->graphene<4->mlflow) (1.16.0)\n",
            "Requirement already satisfied: charset-normalizer<4,>=2 in c:\\users\\fgurr\\anaconda3\\lib\\site-packages (from requests<3,>=2.17.3->mlflow-skinny==2.22.1->mlflow) (2.0.4)\n",
            "Requirement already satisfied: idna<4,>=2.5 in c:\\users\\fgurr\\anaconda3\\lib\\site-packages (from requests<3,>=2.17.3->mlflow-skinny==2.22.1->mlflow) (3.7)\n",
            "Requirement already satisfied: certifi>=2017.4.17 in c:\\users\\fgurr\\anaconda3\\lib\\site-packages (from requests<3,>=2.17.3->mlflow-skinny==2.22.1->mlflow) (2024.8.30)\n",
            "Requirement already satisfied: h11>=0.8 in c:\\users\\fgurr\\anaconda3\\lib\\site-packages (from uvicorn<1->mlflow-skinny==2.22.1->mlflow) (0.14.0)\n",
            "Requirement already satisfied: smmap<5,>=3.0.1 in c:\\users\\fgurr\\anaconda3\\lib\\site-packages (from gitdb<5,>=4.0.1->gitpython<4,>=3.1.9->mlflow-skinny==2.22.1->mlflow) (4.0.0)\n",
            "Requirement already satisfied: pyasn1-modules>=0.2.1 in c:\\users\\fgurr\\anaconda3\\lib\\site-packages (from google-auth~=2.0->databricks-sdk<1,>=0.20.0->mlflow-skinny==2.22.1->mlflow) (0.2.8)\n",
            "Collecting rsa<5,>=3.1.4 (from google-auth~=2.0->databricks-sdk<1,>=0.20.0->mlflow-skinny==2.22.1->mlflow)\n",
            "  Downloading rsa-4.9.1-py3-none-any.whl.metadata (5.6 kB)\n",
            "Requirement already satisfied: anyio<5,>=3.6.2 in c:\\users\\fgurr\\anaconda3\\lib\\site-packages (from starlette<0.47.0,>=0.40.0->fastapi<1->mlflow-skinny==2.22.1->mlflow) (4.2.0)\n",
            "Requirement already satisfied: sniffio>=1.1 in c:\\users\\fgurr\\anaconda3\\lib\\site-packages (from anyio<5,>=3.6.2->starlette<0.47.0,>=0.40.0->fastapi<1->mlflow-skinny==2.22.1->mlflow) (1.3.0)\n",
            "Requirement already satisfied: pyasn1<0.5.0,>=0.4.6 in c:\\users\\fgurr\\anaconda3\\lib\\site-packages (from pyasn1-modules>=0.2.1->google-auth~=2.0->databricks-sdk<1,>=0.20.0->mlflow-skinny==2.22.1->mlflow) (0.4.8)\n",
            "Downloading mlflow-2.22.1-py3-none-any.whl (29.0 MB)\n",
            "   ---------------------------------------- 0.0/29.0 MB ? eta -:--:--\n",
            "    --------------------------------------- 0.5/29.0 MB 15.9 MB/s eta 0:00:02\n",
            "   - -------------------------------------- 1.0/29.0 MB 13.3 MB/s eta 0:00:03\n",
            "   -- ------------------------------------- 1.6/29.0 MB 12.9 MB/s eta 0:00:03\n",
            "   --- ------------------------------------ 2.3/29.0 MB 13.2 MB/s eta 0:00:03\n",
            "   --- ------------------------------------ 2.8/29.0 MB 13.0 MB/s eta 0:00:03\n",
            "   ---- ----------------------------------- 3.4/29.0 MB 13.4 MB/s eta 0:00:02\n",
            "   ----- ---------------------------------- 3.9/29.0 MB 13.2 MB/s eta 0:00:02\n",
            "   ------ --------------------------------- 4.5/29.0 MB 12.9 MB/s eta 0:00:02\n",
            "   ------ --------------------------------- 5.0/29.0 MB 13.3 MB/s eta 0:00:02\n",
            "   ------- -------------------------------- 5.5/29.0 MB 13.1 MB/s eta 0:00:02\n",
            "   -------- ------------------------------- 6.2/29.0 MB 13.3 MB/s eta 0:00:02\n",
            "   --------- ------------------------------ 6.8/29.0 MB 13.2 MB/s eta 0:00:02\n",
            "   ---------- ----------------------------- 7.4/29.0 MB 13.2 MB/s eta 0:00:02\n",
            "   ----------- ---------------------------- 8.1/29.0 MB 13.3 MB/s eta 0:00:02\n",
            "   ----------- ---------------------------- 8.7/29.0 MB 13.2 MB/s eta 0:00:02\n",
            "   ------------ --------------------------- 9.3/29.0 MB 13.3 MB/s eta 0:00:02\n",
            "   ------------- -------------------------- 10.0/29.0 MB 13.0 MB/s eta 0:00:02\n",
            "   -------------- ------------------------- 10.5/29.0 MB 13.4 MB/s eta 0:00:02\n",
            "   --------------- ------------------------ 11.1/29.0 MB 13.1 MB/s eta 0:00:02\n",
            "   ---------------- ----------------------- 11.8/29.0 MB 13.4 MB/s eta 0:00:02\n",
            "   ----------------- ---------------------- 12.3/29.0 MB 13.1 MB/s eta 0:00:02\n",
            "   ----------------- ---------------------- 12.9/29.0 MB 13.4 MB/s eta 0:00:02\n",
            "   ----------------- ---------------------- 13.0/29.0 MB 13.4 MB/s eta 0:00:02\n",
            "   ----------------- ---------------------- 13.0/29.0 MB 13.4 MB/s eta 0:00:02\n",
            "   ------------------ --------------------- 13.6/29.0 MB 12.1 MB/s eta 0:00:02\n",
            "   ------------------- -------------------- 14.2/29.0 MB 12.4 MB/s eta 0:00:02\n",
            "   --------------------- ------------------ 15.5/29.0 MB 13.4 MB/s eta 0:00:02\n",
            "   ---------------------- ----------------- 16.1/29.0 MB 13.1 MB/s eta 0:00:01\n",
            "   ----------------------- ---------------- 16.7/29.0 MB 13.1 MB/s eta 0:00:01\n",
            "   ----------------------- ---------------- 17.2/29.0 MB 13.4 MB/s eta 0:00:01\n",
            "   ------------------------ --------------- 17.8/29.0 MB 13.4 MB/s eta 0:00:01\n",
            "   ------------------------- -------------- 18.3/29.0 MB 13.1 MB/s eta 0:00:01\n",
            "   ------------------------- -------------- 18.9/29.0 MB 13.4 MB/s eta 0:00:01\n",
            "   -------------------------- ------------- 19.5/29.0 MB 13.1 MB/s eta 0:00:01\n",
            "   --------------------------- ------------ 20.1/29.0 MB 13.4 MB/s eta 0:00:01\n",
            "   ---------------------------- ----------- 20.6/29.0 MB 13.4 MB/s eta 0:00:01\n",
            "   ----------------------------- ---------- 21.1/29.0 MB 13.4 MB/s eta 0:00:01\n",
            "   ----------------------------- ---------- 21.7/29.0 MB 13.4 MB/s eta 0:00:01\n",
            "   ------------------------------ --------- 22.2/29.0 MB 13.1 MB/s eta 0:00:01\n",
            "   ------------------------------- -------- 22.9/29.0 MB 13.4 MB/s eta 0:00:01\n",
            "   -------------------------------- ------- 23.6/29.0 MB 14.9 MB/s eta 0:00:01\n",
            "   --------------------------------- ------ 24.1/29.0 MB 14.6 MB/s eta 0:00:01\n",
            "   ---------------------------------- ----- 24.8/29.0 MB 13.9 MB/s eta 0:00:01\n",
            "   ---------------------------------- ----- 25.3/29.0 MB 13.4 MB/s eta 0:00:01\n",
            "   ----------------------------------- ---- 26.0/29.0 MB 13.4 MB/s eta 0:00:01\n",
            "   ------------------------------------ --- 26.6/29.0 MB 13.4 MB/s eta 0:00:01\n",
            "   ------------------------------------- -- 27.1/29.0 MB 13.4 MB/s eta 0:00:01\n",
            "   -------------------------------------- - 27.6/29.0 MB 13.4 MB/s eta 0:00:01\n",
            "   -------------------------------------- - 28.2/29.0 MB 13.1 MB/s eta 0:00:01\n",
            "   ---------------------------------------  28.9/29.0 MB 13.4 MB/s eta 0:00:01\n",
            "   ---------------------------------------  29.0/29.0 MB 13.1 MB/s eta 0:00:01\n",
            "   ---------------------------------------- 29.0/29.0 MB 12.1 MB/s eta 0:00:00\n",
            "Downloading mlflow_skinny-2.22.1-py3-none-any.whl (6.3 MB)\n",
            "   ---------------------------------------- 0.0/6.3 MB ? eta -:--:--\n",
            "   --- ------------------------------------ 0.6/6.3 MB 19.8 MB/s eta 0:00:01\n",
            "   ------- -------------------------------- 1.2/6.3 MB 14.8 MB/s eta 0:00:01\n",
            "   ----------- ---------------------------- 1.9/6.3 MB 14.7 MB/s eta 0:00:01\n",
            "   --------------- ------------------------ 2.4/6.3 MB 13.9 MB/s eta 0:00:01\n",
            "   ------------------- -------------------- 3.1/6.3 MB 14.1 MB/s eta 0:00:01\n",
            "   ----------------------- ---------------- 3.7/6.3 MB 13.2 MB/s eta 0:00:01\n",
            "   ---------------------------- ----------- 4.5/6.3 MB 13.6 MB/s eta 0:00:01\n",
            "   ------------------------------- -------- 5.0/6.3 MB 13.9 MB/s eta 0:00:01\n",
            "   ---------------------------------- ----- 5.5/6.3 MB 13.5 MB/s eta 0:00:01\n",
            "   -------------------------------------- - 6.0/6.3 MB 13.7 MB/s eta 0:00:01\n",
            "   ---------------------------------------- 6.3/6.3 MB 12.9 MB/s eta 0:00:00\n",
            "Downloading alembic-1.16.1-py3-none-any.whl (242 kB)\n",
            "   ---------------------------------------- 0.0/242.5 kB ? eta -:--:--\n",
            "   ---------------------------------------- 242.5/242.5 kB ? eta 0:00:00\n",
            "Downloading docker-7.1.0-py3-none-any.whl (147 kB)\n",
            "   ---------------------------------------- 0.0/147.8 kB ? eta -:--:--\n",
            "   ---------------------------------------- 147.8/147.8 kB 8.6 MB/s eta 0:00:00\n",
            "Downloading graphene-3.4.3-py2.py3-none-any.whl (114 kB)\n",
            "   ---------------------------------------- 0.0/114.9 kB ? eta -:--:--\n",
            "   ---------------------------------------- 114.9/114.9 kB ? eta 0:00:00\n",
            "Downloading waitress-3.0.2-py3-none-any.whl (56 kB)\n",
            "   ---------------------------------------- 0.0/56.2 kB ? eta -:--:--\n",
            "   ---------------------------------------- 56.2/56.2 kB 3.1 MB/s eta 0:00:00\n",
            "Downloading databricks_sdk-0.56.0-py3-none-any.whl (733 kB)\n",
            "   ---------------------------------------- 0.0/733.7 kB ? eta -:--:--\n",
            "   --------------------------------------  727.0/733.7 kB 15.3 MB/s eta 0:00:01\n",
            "   --------------------------------------- 733.7/733.7 kB 11.7 MB/s eta 0:00:00\n",
            "Downloading fastapi-0.115.12-py3-none-any.whl (95 kB)\n",
            "   ---------------------------------------- 0.0/95.2 kB ? eta -:--:--\n",
            "   ---------------------------------------- 95.2/95.2 kB ? eta 0:00:00\n",
            "Downloading graphql_core-3.2.6-py3-none-any.whl (203 kB)\n",
            "   ---------------------------------------- 0.0/203.4 kB ? eta -:--:--\n",
            "   --------------------------------------- 203.4/203.4 kB 12.9 MB/s eta 0:00:00\n",
            "Downloading graphql_relay-3.2.0-py3-none-any.whl (16 kB)\n",
            "Downloading opentelemetry_api-1.34.1-py3-none-any.whl (65 kB)\n",
            "   ---------------------------------------- 0.0/65.8 kB ? eta -:--:--\n",
            "   ---------------------------------------- 65.8/65.8 kB 3.5 MB/s eta 0:00:00\n",
            "Downloading opentelemetry_sdk-1.34.1-py3-none-any.whl (118 kB)\n",
            "   ---------------------------------------- 0.0/118.5 kB ? eta -:--:--\n",
            "   ---------------------------------------- 118.5/118.5 kB 6.8 MB/s eta 0:00:00\n",
            "Downloading opentelemetry_semantic_conventions-0.55b1-py3-none-any.whl (196 kB)\n",
            "   ---------------------------------------- 0.0/196.2 kB ? eta -:--:--\n",
            "   ---------------------------------------- 196.2/196.2 kB ? eta 0:00:00\n",
            "Downloading sqlparse-0.5.3-py3-none-any.whl (44 kB)\n",
            "   ---------------------------------------- 0.0/44.4 kB ? eta -:--:--\n",
            "   ---------------------------------------- 44.4/44.4 kB 2.1 MB/s eta 0:00:00\n",
            "Downloading typing_extensions-4.14.0-py3-none-any.whl (43 kB)\n",
            "   ---------------------------------------- 0.0/43.8 kB ? eta -:--:--\n",
            "   ---------------------------------------- 43.8/43.8 kB 2.1 MB/s eta 0:00:00\n",
            "Downloading uvicorn-0.34.3-py3-none-any.whl (62 kB)\n",
            "   ---------------------------------------- 0.0/62.4 kB ? eta -:--:--\n",
            "   ---------------------------------------- 62.4/62.4 kB 3.3 MB/s eta 0:00:00\n",
            "Downloading mako-1.3.10-py3-none-any.whl (78 kB)\n",
            "   ---------------------------------------- 0.0/78.5 kB ? eta -:--:--\n",
            "   ---------------------------------------- 78.5/78.5 kB 2.2 MB/s eta 0:00:00\n",
            "Downloading google_auth-2.40.3-py2.py3-none-any.whl (216 kB)\n",
            "   ---------------------------------------- 0.0/216.1 kB ? eta -:--:--\n",
            "   ---------------------------------------- 216.1/216.1 kB 6.6 MB/s eta 0:00:00\n",
            "Downloading starlette-0.46.2-py3-none-any.whl (72 kB)\n",
            "   ---------------------------------------- 0.0/72.0 kB ? eta -:--:--\n",
            "   ---------------------------------------- 72.0/72.0 kB ? eta 0:00:00\n",
            "Downloading rsa-4.9.1-py3-none-any.whl (34 kB)\n",
            "Installing collected packages: waitress, typing-extensions, sqlparse, rsa, Mako, graphql-core, uvicorn, starlette, opentelemetry-api, graphql-relay, google-auth, docker, opentelemetry-semantic-conventions, graphene, databricks-sdk, alembic, opentelemetry-sdk, fastapi, mlflow-skinny, mlflow\n",
            "  Attempting uninstall: typing-extensions\n",
            "    Found existing installation: typing_extensions 4.11.0\n",
            "    Uninstalling typing_extensions-4.11.0:\n",
            "      Successfully uninstalled typing_extensions-4.11.0\n",
            "Successfully installed Mako-1.3.10 alembic-1.16.1 databricks-sdk-0.56.0 docker-7.1.0 fastapi-0.115.12 google-auth-2.40.3 graphene-3.4.3 graphql-core-3.2.6 graphql-relay-3.2.0 mlflow-2.22.1 mlflow-skinny-2.22.1 opentelemetry-api-1.34.1 opentelemetry-sdk-1.34.1 opentelemetry-semantic-conventions-0.55b1 rsa-4.9.1 sqlparse-0.5.3 starlette-0.46.2 typing-extensions-4.14.0 uvicorn-0.34.3 waitress-3.0.2\n",
            "Note: you may need to restart the kernel to use updated packages.\n"
          ]
        }
      ],
      "source": [
        "pip install mlflow"
      ]
    },
    {
      "cell_type": "code",
      "execution_count": null,
      "id": "d5f62ae4-247e-4db5-bcbe-ff6347d87420",
      "metadata": {
        "id": "d5f62ae4-247e-4db5-bcbe-ff6347d87420"
      },
      "outputs": [],
      "source": [
        "# Selección de librerias para trabajar\n",
        "import pandas as pd\n",
        "import numpy as np\n",
        "import matplotlib.pyplot as plt\n",
        "import seaborn as sns\n",
        "\n",
        "from sklearn.model_selection import train_test_split\n",
        "from sklearn.preprocessing import StandardScaler, LabelEncoder\n",
        "from sklearn.ensemble import RandomForestClassifier\n",
        "from sklearn.metrics import classification_report, confusion_matrix, accuracy_score"
      ]
    },
    {
      "cell_type": "code",
      "execution_count": null,
      "id": "7abff3d5-8b55-4044-9064-86e4629e6875",
      "metadata": {
        "scrolled": true,
        "id": "7abff3d5-8b55-4044-9064-86e4629e6875",
        "outputId": "960f6a70-a209-4b64-a0fd-bff0ac177e3e"
      },
      "outputs": [
        {
          "name": "stdout",
          "output_type": "stream",
          "text": [
            "Primeras filas del dataset:\n"
          ]
        },
        {
          "data": {
            "text/html": [
              "<div>\n",
              "<style scoped>\n",
              "    .dataframe tbody tr th:only-of-type {\n",
              "        vertical-align: middle;\n",
              "    }\n",
              "\n",
              "    .dataframe tbody tr th {\n",
              "        vertical-align: top;\n",
              "    }\n",
              "\n",
              "    .dataframe thead th {\n",
              "        text-align: right;\n",
              "    }\n",
              "</style>\n",
              "<table border=\"1\" class=\"dataframe\">\n",
              "  <thead>\n",
              "    <tr style=\"text-align: right;\">\n",
              "      <th></th>\n",
              "      <th>id</th>\n",
              "      <th>gender</th>\n",
              "      <th>age</th>\n",
              "      <th>hypertension</th>\n",
              "      <th>heart_disease</th>\n",
              "      <th>ever_married</th>\n",
              "      <th>work_type</th>\n",
              "      <th>Residence_type</th>\n",
              "      <th>avg_glucose_level</th>\n",
              "      <th>bmi</th>\n",
              "      <th>smoking_status</th>\n",
              "      <th>stroke</th>\n",
              "    </tr>\n",
              "  </thead>\n",
              "  <tbody>\n",
              "    <tr>\n",
              "      <th>0</th>\n",
              "      <td>9046</td>\n",
              "      <td>Male</td>\n",
              "      <td>67.0</td>\n",
              "      <td>0</td>\n",
              "      <td>1</td>\n",
              "      <td>Yes</td>\n",
              "      <td>Private</td>\n",
              "      <td>Urban</td>\n",
              "      <td>228.69</td>\n",
              "      <td>36.6</td>\n",
              "      <td>formerly smoked</td>\n",
              "      <td>1</td>\n",
              "    </tr>\n",
              "    <tr>\n",
              "      <th>1</th>\n",
              "      <td>51676</td>\n",
              "      <td>Female</td>\n",
              "      <td>61.0</td>\n",
              "      <td>0</td>\n",
              "      <td>0</td>\n",
              "      <td>Yes</td>\n",
              "      <td>Self-employed</td>\n",
              "      <td>Rural</td>\n",
              "      <td>202.21</td>\n",
              "      <td>NaN</td>\n",
              "      <td>never smoked</td>\n",
              "      <td>1</td>\n",
              "    </tr>\n",
              "    <tr>\n",
              "      <th>2</th>\n",
              "      <td>31112</td>\n",
              "      <td>Male</td>\n",
              "      <td>80.0</td>\n",
              "      <td>0</td>\n",
              "      <td>1</td>\n",
              "      <td>Yes</td>\n",
              "      <td>Private</td>\n",
              "      <td>Rural</td>\n",
              "      <td>105.92</td>\n",
              "      <td>32.5</td>\n",
              "      <td>never smoked</td>\n",
              "      <td>1</td>\n",
              "    </tr>\n",
              "    <tr>\n",
              "      <th>3</th>\n",
              "      <td>60182</td>\n",
              "      <td>Female</td>\n",
              "      <td>49.0</td>\n",
              "      <td>0</td>\n",
              "      <td>0</td>\n",
              "      <td>Yes</td>\n",
              "      <td>Private</td>\n",
              "      <td>Urban</td>\n",
              "      <td>171.23</td>\n",
              "      <td>34.4</td>\n",
              "      <td>smokes</td>\n",
              "      <td>1</td>\n",
              "    </tr>\n",
              "    <tr>\n",
              "      <th>4</th>\n",
              "      <td>1665</td>\n",
              "      <td>Female</td>\n",
              "      <td>79.0</td>\n",
              "      <td>1</td>\n",
              "      <td>0</td>\n",
              "      <td>Yes</td>\n",
              "      <td>Self-employed</td>\n",
              "      <td>Rural</td>\n",
              "      <td>174.12</td>\n",
              "      <td>24.0</td>\n",
              "      <td>never smoked</td>\n",
              "      <td>1</td>\n",
              "    </tr>\n",
              "  </tbody>\n",
              "</table>\n",
              "</div>"
            ],
            "text/plain": [
              "      id  gender   age  hypertension  heart_disease ever_married  \\\n",
              "0   9046    Male  67.0             0              1          Yes   \n",
              "1  51676  Female  61.0             0              0          Yes   \n",
              "2  31112    Male  80.0             0              1          Yes   \n",
              "3  60182  Female  49.0             0              0          Yes   \n",
              "4   1665  Female  79.0             1              0          Yes   \n",
              "\n",
              "       work_type Residence_type  avg_glucose_level   bmi   smoking_status  \\\n",
              "0        Private          Urban             228.69  36.6  formerly smoked   \n",
              "1  Self-employed          Rural             202.21   NaN     never smoked   \n",
              "2        Private          Rural             105.92  32.5     never smoked   \n",
              "3        Private          Urban             171.23  34.4           smokes   \n",
              "4  Self-employed          Rural             174.12  24.0     never smoked   \n",
              "\n",
              "   stroke  \n",
              "0       1  \n",
              "1       1  \n",
              "2       1  \n",
              "3       1  \n",
              "4       1  "
            ]
          },
          "metadata": {},
          "output_type": "display_data"
        },
        {
          "name": "stdout",
          "output_type": "stream",
          "text": [
            "\n",
            "Información general:\n",
            "<class 'pandas.core.frame.DataFrame'>\n",
            "RangeIndex: 5110 entries, 0 to 5109\n",
            "Data columns (total 12 columns):\n",
            " #   Column             Non-Null Count  Dtype  \n",
            "---  ------             --------------  -----  \n",
            " 0   id                 5110 non-null   int64  \n",
            " 1   gender             5110 non-null   object \n",
            " 2   age                5110 non-null   float64\n",
            " 3   hypertension       5110 non-null   int64  \n",
            " 4   heart_disease      5110 non-null   int64  \n",
            " 5   ever_married       5110 non-null   object \n",
            " 6   work_type          5110 non-null   object \n",
            " 7   Residence_type     5110 non-null   object \n",
            " 8   avg_glucose_level  5110 non-null   float64\n",
            " 9   bmi                4909 non-null   float64\n",
            " 10  smoking_status     5110 non-null   object \n",
            " 11  stroke             5110 non-null   int64  \n",
            "dtypes: float64(3), int64(4), object(5)\n",
            "memory usage: 479.2+ KB\n",
            "None\n",
            "\n",
            "Valores nulos por columna:\n",
            "id                     0\n",
            "gender                 0\n",
            "age                    0\n",
            "hypertension           0\n",
            "heart_disease          0\n",
            "ever_married           0\n",
            "work_type              0\n",
            "Residence_type         0\n",
            "avg_glucose_level      0\n",
            "bmi                  201\n",
            "smoking_status         0\n",
            "stroke                 0\n",
            "dtype: int64\n"
          ]
        }
      ],
      "source": [
        "# Cargar el dataset seleccionado\n",
        "df = pd.read_csv('healthcare-dataset-stroke-data.csv')\n",
        "\n",
        "# Primera exploración\n",
        "print(\"Primeras filas del dataset:\")\n",
        "display(df.head())\n",
        "\n",
        "print(\"\\nInformación general:\")\n",
        "print(df.info())\n",
        "\n",
        "print(\"\\nValores nulos por columna:\")\n",
        "print(df.isnull().sum())"
      ]
    },
    {
      "cell_type": "code",
      "execution_count": null,
      "id": "ac3bd220-014f-4d71-a596-a9612caf1f9a",
      "metadata": {
        "id": "ac3bd220-014f-4d71-a596-a9612caf1f9a"
      },
      "outputs": [],
      "source": [
        "# Eliminamos valores nulos\n",
        "df = df.dropna()\n",
        "\n",
        "# Eliminamos 'id' porque no aporta al modelo\n",
        "df = df.drop(columns=['id'])\n",
        "\n",
        "# Codificación de variables categóricas\n",
        "cat_cols = df.select_dtypes(include=['object']).columns\n",
        "\n",
        "# Usamos LabelEncoder para simplificar\n",
        "le = LabelEncoder()\n",
        "for col in cat_cols:\n",
        "    df[col] = le.fit_transform(df[col])\n",
        "\n",
        "# Separar características y objetivo\n",
        "X = df.drop('stroke', axis=1)\n",
        "y = df['stroke']\n",
        "\n",
        "# División de datos\n",
        "X_train, X_test, y_train, y_test = train_test_split(X, y, test_size=0.2, random_state=42, stratify=y)\n",
        "\n",
        "# Escalado\n",
        "scaler = StandardScaler()\n",
        "X_train = scaler.fit_transform(X_train)\n",
        "X_test = scaler.transform(X_test)"
      ]
    },
    {
      "cell_type": "code",
      "execution_count": null,
      "id": "5711263e-de22-4941-997f-d498b90b5939",
      "metadata": {
        "id": "5711263e-de22-4941-997f-d498b90b5939",
        "outputId": "1370473b-cfc0-4048-c0a7-238cc4c60cd9"
      },
      "outputs": [
        {
          "name": "stdout",
          "output_type": "stream",
          "text": [
            "\n",
            "Matriz de confusión:\n",
            "[[938   2]\n",
            " [ 42   0]]\n",
            "\n",
            "Reporte de clasificación:\n",
            "              precision    recall  f1-score   support\n",
            "\n",
            "           0       0.96      1.00      0.98       940\n",
            "           1       0.00      0.00      0.00        42\n",
            "\n",
            "    accuracy                           0.96       982\n",
            "   macro avg       0.48      0.50      0.49       982\n",
            "weighted avg       0.92      0.96      0.94       982\n",
            "\n",
            "\n",
            "Accuracy: 0.9552\n"
          ]
        }
      ],
      "source": [
        "# Entrenamiento de un modelo inicial\n",
        "model = RandomForestClassifier(random_state=42)\n",
        "model.fit(X_train, y_train)\n",
        "\n",
        "# Evaluación\n",
        "y_pred = model.predict(X_test)\n",
        "\n",
        "print(\"\\nMatriz de confusión:\")\n",
        "print(confusion_matrix(y_test, y_pred))\n",
        "\n",
        "print(\"\\nReporte de clasificación:\")\n",
        "print(classification_report(y_test, y_pred))\n",
        "\n",
        "print(f\"\\nAccuracy: {accuracy_score(y_test, y_pred):.4f}\")\n"
      ]
    },
    {
      "cell_type": "code",
      "execution_count": null,
      "id": "ce608a31-7ede-4866-8e95-d7485bc57021",
      "metadata": {
        "id": "ce608a31-7ede-4866-8e95-d7485bc57021",
        "outputId": "336aa6f5-aa0a-4347-e083-5bb7b8072a23"
      },
      "outputs": [
        {
          "name": "stderr",
          "output_type": "stream",
          "text": [
            "2025/06/10 22:06:23 INFO mlflow.tracking.fluent: Experiment with name 'Predicción de ACV 1' does not exist. Creating a new experiment.\n",
            "C:\\Users\\FGurr\\anaconda3\\Lib\\site-packages\\sklearn\\metrics\\_classification.py:1509: UndefinedMetricWarning: Precision is ill-defined and being set to 0.0 due to no predicted samples. Use `zero_division` parameter to control this behavior.\n",
            "  _warn_prf(average, modifier, f\"{metric.capitalize()} is\", len(result))\n",
            "2025/06/10 22:06:31 WARNING mlflow.models.model: Model logged without a signature and input example. Please set `input_example` parameter when logging the model to auto infer the model signature.\n"
          ]
        },
        {
          "name": "stdout",
          "output_type": "stream",
          "text": [
            "Tracking registrado: Accuracy=0.96, AUC=0.79\n"
          ]
        }
      ],
      "source": [
        "import mlflow\n",
        "import mlflow.sklearn\n",
        "from sklearn.metrics import accuracy_score, precision_score, recall_score, f1_score, roc_auc_score\n",
        "\n",
        "# Iniciar tracking de MLflow\n",
        "mlflow.set_experiment(\"Predicción de ACV 1\")\n",
        "\n",
        "with mlflow.start_run():\n",
        "\n",
        "    # ENTRENAMIENTO\n",
        "    model = RandomForestClassifier(n_estimators=100, max_depth=5, random_state=42)\n",
        "    model.fit(X_train, y_train)\n",
        "    y_pred = model.predict(X_test)\n",
        "    y_probs = model.predict_proba(X_test)[:, 1]\n",
        "\n",
        "    # MÉTRICAS\n",
        "    acc = accuracy_score(y_test, y_pred)\n",
        "    prec = precision_score(y_test, y_pred)\n",
        "    rec = recall_score(y_test, y_pred)\n",
        "    f1 = f1_score(y_test, y_pred)\n",
        "    auc = roc_auc_score(y_test, y_probs)\n",
        "\n",
        "    # PARAMETROS\n",
        "    mlflow.log_param(\"n_estimators\", 100)\n",
        "    mlflow.log_param(\"max_depth\", 5)\n",
        "    mlflow.log_param(\"random_state\", 42)\n",
        "\n",
        "    # MÉTRICAS\n",
        "    mlflow.log_metric(\"accuracy\", acc)\n",
        "    mlflow.log_metric(\"precision\", prec)\n",
        "    mlflow.log_metric(\"recall\", rec)\n",
        "    mlflow.log_metric(\"f1_score\", f1)\n",
        "    mlflow.log_metric(\"roc_auc\", auc)\n",
        "\n",
        "    # GUARDAR MODELO\n",
        "    mlflow.sklearn.log_model(model, \"modelo_rf\")\n",
        "\n",
        "    print(f\"Tracking registrado: Accuracy={acc:.2f}, AUC={auc:.2f}\")\n"
      ]
    },
    {
      "cell_type": "code",
      "execution_count": null,
      "id": "16cd362a-2485-47d5-80a4-ba565f03f2ad",
      "metadata": {
        "id": "16cd362a-2485-47d5-80a4-ba565f03f2ad",
        "outputId": "316eece3-4e2a-45d8-fcd9-f18f1fd02288"
      },
      "outputs": [
        {
          "name": "stdout",
          "output_type": "stream",
          "text": [
            "stroke\n",
            "0    0.824561\n",
            "1    0.175439\n",
            "Name: proportion, dtype: float64\n"
          ]
        }
      ],
      "source": [
        "from sklearn.utils import resample\n",
        "\n",
        "# Separar clases\n",
        "df_minority = df[df['stroke'] == 1]\n",
        "df_majority = df[df['stroke'] == 0]\n",
        "\n",
        "# Aumentar la clase minoritaria con Bootstrap (muestreo con reemplazo)\n",
        "df_minority_boot = resample(df_minority,\n",
        "                            replace=True,\n",
        "                            n_samples=1000,  # o igualar al tamaño de la clase mayoritaria\n",
        "                            random_state=42)\n",
        "\n",
        "# Combinar con clase mayoritaria\n",
        "df_balanced = pd.concat([df_majority, df_minority_boot])\n",
        "\n",
        "# Verificar nuevo balance\n",
        "print(df_balanced['stroke'].value_counts(normalize=True))\n"
      ]
    },
    {
      "cell_type": "markdown",
      "id": "f8e2934e",
      "metadata": {
        "id": "f8e2934e"
      },
      "source": [
        "| Clase        | Proporción Original | Proporción Nueva |\n",
        "| ------------ | ------------------- | ---------------- |\n",
        "| `stroke = 1` | \\~4.9%              | **17.5%**        |\n",
        "| `stroke = 0` | \\~95.1%             | **82.5%**        |\n"
      ]
    },
    {
      "cell_type": "markdown",
      "id": "bd19122b",
      "metadata": {
        "id": "bd19122b"
      },
      "source": [
        "Este nuevo dataset está menos desbalanceado, aunque no completamente balanceado (lo cual puede ser bueno: balancear al 100% a veces genera overfitting si no se maneja bien). Este 17.5% puede ser una buena base\n",
        "\n"
      ]
    },
    {
      "cell_type": "code",
      "execution_count": null,
      "id": "bfb56eb2",
      "metadata": {
        "id": "bfb56eb2"
      },
      "outputs": [],
      "source": [
        "from sklearn.model_selection import train_test_split\n",
        "from sklearn.preprocessing import StandardScaler, LabelEncoder\n",
        "from sklearn.linear_model import LogisticRegression\n",
        "from sklearn.ensemble import RandomForestClassifier\n",
        "from sklearn.metrics import (\n",
        "    classification_report,\n",
        "    confusion_matrix,\n",
        "    roc_auc_score,\n",
        "    roc_curve,\n",
        "    accuracy_score,\n",
        "    precision_score,\n",
        "    recall_score,\n",
        "    f1_score\n",
        ")"
      ]
    },
    {
      "cell_type": "code",
      "execution_count": null,
      "id": "6c6708f8",
      "metadata": {
        "id": "6c6708f8",
        "outputId": "287d8aa5-948d-4229-dc3d-579c789a1242"
      },
      "outputs": [
        {
          "name": "stdout",
          "output_type": "stream",
          "text": [
            "\n",
            "--- Logistic Regression ---\n",
            "Accuracy: 0.8350877192982457\n",
            "Precision: 0.5630252100840336\n",
            "Recall: 0.268\n",
            "F1 Score: 0.36314363143631434\n",
            "ROC AUC: 0.8377497872340425\n",
            "\n",
            "Classification Report:\n",
            "               precision    recall  f1-score   support\n",
            "\n",
            "           0       0.86      0.96      0.91      1175\n",
            "           1       0.56      0.27      0.36       250\n",
            "\n",
            "    accuracy                           0.84      1425\n",
            "   macro avg       0.71      0.61      0.63      1425\n",
            "weighted avg       0.81      0.84      0.81      1425\n",
            "\n"
          ]
        },
        {
          "data": {
            "image/png": "[encoded data removed]",
            "text/plain": [
              "<Figure size 640x480 with 2 Axes>"
            ]
          },
          "metadata": {},
          "output_type": "display_data"
        },
        {
          "name": "stdout",
          "output_type": "stream",
          "text": [
            "\n",
            "--- Random Forest ---\n",
            "Accuracy: 0.9873684210526316\n",
            "Precision: 0.9461538461538461\n",
            "Recall: 0.984\n",
            "F1 Score: 0.9647058823529412\n",
            "ROC AUC: 0.9949174468085107\n",
            "\n",
            "Classification Report:\n",
            "               precision    recall  f1-score   support\n",
            "\n",
            "           0       1.00      0.99      0.99      1175\n",
            "           1       0.95      0.98      0.96       250\n",
            "\n",
            "    accuracy                           0.99      1425\n",
            "   macro avg       0.97      0.99      0.98      1425\n",
            "weighted avg       0.99      0.99      0.99      1425\n",
            "\n"
          ]
        },
        {
          "data": {
            "image/png": "[encoded data removed]",
            "text/plain": [
              "<Figure size 640x480 with 2 Axes>"
            ]
          },
          "metadata": {},
          "output_type": "display_data"
        }
      ],
      "source": [
        "# Preprocesamiento\n",
        "df_model = df_balanced.copy()\n",
        "\n",
        "# Eliminar columnas innecesarias si las hay (como 'id' o similares)\n",
        "df_model = df_model.drop(columns=['id'], errors='ignore')\n",
        "\n",
        "# Codificar variables categóricas\n",
        "df_model = pd.get_dummies(df_model, drop_first=True)\n",
        "\n",
        "# Separar variables y target\n",
        "X = df_model.drop('stroke', axis=1)\n",
        "y = df_model['stroke']\n",
        "\n",
        "# Escalar variables numéricas\n",
        "scaler = StandardScaler()\n",
        "X_scaled = scaler.fit_transform(X)\n",
        "\n",
        "# Dividir en entrenamiento y test\n",
        "X_train, X_test, y_train, y_test = train_test_split(X_scaled, y, test_size=0.25, stratify=y, random_state=42)\n",
        "\n",
        "# Entrenar modelos\n",
        "models = {\n",
        "    \"Logistic Regression\": LogisticRegression(max_iter=1000),\n",
        "    \"Random Forest\": RandomForestClassifier(n_estimators=100, random_state=42)\n",
        "}\n",
        "\n",
        "for name, model in models.items():\n",
        "    model.fit(X_train, y_train)\n",
        "    y_pred = model.predict(X_test)\n",
        "    y_proba = model.predict_proba(X_test)[:, 1]\n",
        "\n",
        "    print(f\"\\n--- {name} ---\")\n",
        "    print(\"Accuracy:\", accuracy_score(y_test, y_pred))\n",
        "    print(\"Precision:\", precision_score(y_test, y_pred))\n",
        "    print(\"Recall:\", recall_score(y_test, y_pred))\n",
        "    print(\"F1 Score:\", f1_score(y_test, y_pred))\n",
        "    print(\"ROC AUC:\", roc_auc_score(y_test, y_proba))\n",
        "    print(\"\\nClassification Report:\\n\", classification_report(y_test, y_pred))\n",
        "\n",
        "    # Matriz de confusión\n",
        "    cm = confusion_matrix(y_test, y_pred)\n",
        "    sns.heatmap(cm, annot=True, fmt='d', cmap='Blues')\n",
        "    plt.title(f'Confusion Matrix - {name}')\n",
        "    plt.xlabel('Predicted')\n",
        "    plt.ylabel('Actual')\n",
        "    plt.show()\n"
      ]
    },
    {
      "cell_type": "markdown",
      "id": "3e4e11eb-126e-458d-9ac8-8dcea99bcbb5",
      "metadata": {
        "id": "3e4e11eb-126e-458d-9ac8-8dcea99bcbb5"
      },
      "source": [
        "# Visualizar la curva ROC y calcular AUC"
      ]
    },
    {
      "cell_type": "code",
      "execution_count": null,
      "id": "b7db73d2-eaeb-497c-a6c4-b317f9502664",
      "metadata": {
        "id": "b7db73d2-eaeb-497c-a6c4-b317f9502664",
        "outputId": "4415e03c-a9f7-44b0-e5ea-2d57173e6284"
      },
      "outputs": [
        {
          "data": {
            "image/png": "[encoded data removed]",
            "text/plain": [
              "<Figure size 800x600 with 1 Axes>"
            ]
          },
          "metadata": {},
          "output_type": "display_data"
        }
      ],
      "source": [
        "from sklearn.metrics import roc_curve, roc_auc_score\n",
        "import matplotlib.pyplot as plt\n",
        "\n",
        "# Obtener probabilidades de predicción para la clase 1\n",
        "y_probs = model.predict_proba(X_test)[:, 1]\n",
        "\n",
        "# Calcular curva ROC\n",
        "fpr, tpr, _ = roc_curve(y_test, y_probs)\n",
        "\n",
        "# Calcular AUC\n",
        "auc_score = roc_auc_score(y_test, y_probs)\n",
        "\n",
        "# Graficar\n",
        "plt.figure(figsize=(8, 6))\n",
        "plt.plot(fpr, tpr, label=f\"ROC Curve (AUC = {auc_score:.2f})\", color=\"blue\")\n",
        "plt.plot([0, 1], [0, 1], linestyle=\"--\", color=\"gray\")\n",
        "plt.xlabel(\"Tasa de falsos positivos (FPR)\")\n",
        "plt.ylabel(\"Tasa de verdaderos positivos (TPR)\")\n",
        "plt.title(\"Curva ROC del modelo\")\n",
        "plt.legend()\n",
        "plt.grid(True)\n",
        "plt.show()\n"
      ]
    },
    {
      "cell_type": "code",
      "execution_count": null,
      "id": "5717990c-3f07-4041-90c0-c4a0a55e45b3",
      "metadata": {
        "id": "5717990c-3f07-4041-90c0-c4a0a55e45b3",
        "outputId": "136f0d15-2b06-453d-e9ee-8f2cb88586c4"
      },
      "outputs": [
        {
          "name": "stderr",
          "output_type": "stream",
          "text": [
            "2025/06/10 22:06:33 INFO mlflow.tracking.fluent: Experiment with name 'Predicción de ACV 2' does not exist. Creating a new experiment.\n",
            "2025/06/10 22:06:38 WARNING mlflow.models.model: Model logged without a signature and input example. Please set `input_example` parameter when logging the model to auto infer the model signature.\n"
          ]
        },
        {
          "name": "stdout",
          "output_type": "stream",
          "text": [
            "Tracking registrado: Accuracy=0.86, AUC=0.88\n"
          ]
        }
      ],
      "source": [
        "import mlflow\n",
        "import mlflow.sklearn\n",
        "from sklearn.metrics import accuracy_score, precision_score, recall_score, f1_score, roc_auc_score\n",
        "\n",
        "# Iniciar tracking de MLflow\n",
        "mlflow.set_experiment(\"Predicción de ACV 2\")\n",
        "\n",
        "with mlflow.start_run():\n",
        "\n",
        "    # ENTRENAMIENTO\n",
        "    model = RandomForestClassifier(n_estimators=100, max_depth=5, random_state=42)\n",
        "    model.fit(X_train, y_train)\n",
        "    y_pred = model.predict(X_test)\n",
        "    y_probs = model.predict_proba(X_test)[:, 1]\n",
        "\n",
        "    # MÉTRICAS\n",
        "    acc = accuracy_score(y_test, y_pred)\n",
        "    prec = precision_score(y_test, y_pred)\n",
        "    rec = recall_score(y_test, y_pred)\n",
        "    f1 = f1_score(y_test, y_pred)\n",
        "    auc = roc_auc_score(y_test, y_probs)\n",
        "\n",
        "    # PARAMETROS\n",
        "    mlflow.log_param(\"n_estimators\", 100)\n",
        "    mlflow.log_param(\"max_depth\", 5)\n",
        "    mlflow.log_param(\"random_state\", 42)\n",
        "\n",
        "    # MÉTRICAS\n",
        "    mlflow.log_metric(\"accuracy\", acc)\n",
        "    mlflow.log_metric(\"precision\", prec)\n",
        "    mlflow.log_metric(\"recall\", rec)\n",
        "    mlflow.log_metric(\"f1_score\", f1)\n",
        "    mlflow.log_metric(\"roc_auc\", auc)\n",
        "\n",
        "    # GUARDAR MODELO\n",
        "    mlflow.sklearn.log_model(model, \"modelo_rf\")\n",
        "\n",
        "    print(f\"Tracking registrado: Accuracy={acc:.2f}, AUC={auc:.2f}\")"
      ]
    },
    {
      "cell_type": "code",
      "source": [
        "!ls /content/drive/MyDrive/mlflow_runs/586779104079326043/$run_id/artifacts/modelo_titanic"
      ],
      "metadata": {
        "id": "vSFRUEDa4CAF"
      },
      "id": "vSFRUEDa4CAF",
      "execution_count": null,
      "outputs": []
    },
    {
      "cell_type": "code",
      "source": [
        "https://drive.google.com/file/d/1mOUi9HDnChh6QTMfGFikHkrm6-P_2BHd/view?usp=drive_link"
      ],
      "metadata": {
        "id": "ZopmiK2h3PH-"
      },
      "id": "ZopmiK2h3PH-",
      "execution_count": null,
      "outputs": []
    }
  ],
  "metadata": {
    "kernelspec": {
      "display_name": "Python 3 (ipykernel)",
      "language": "python",
      "name": "python3"
    },
    "language_info": {
      "codemirror_mode": {
        "name": "ipython",
        "version": 3
      },
      "file_extension": ".py",
      "mimetype": "text/x-python",
      "name": "python",
      "nbconvert_exporter": "python",
      "pygments_lexer": "ipython3",
      "version": "3.12.4"
    },
    "colab": {
      "provenance": [],
      "include_colab_link": true
    }
  },
  "nbformat": 4,
  "nbformat_minor": 5
}