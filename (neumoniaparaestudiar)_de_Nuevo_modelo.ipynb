{
  "cells": [
    {
      "cell_type": "markdown",
      "metadata": {
        "id": "view-in-github",
        "colab_type": "text"
      },
      "source": [
        "<a href=\"https://colab.research.google.com/github/EugeniaBar/Proyectoscompletos/blob/main/(neumoniaparaestudiar)_de_Nuevo_modelo.ipynb\" target=\"_parent\"><img src=\"https://colab.research.google.com/assets/colab-badge.svg\" alt=\"Open In Colab\"/></a>"
      ]
    },
    {
      "cell_type": "markdown",
      "source": [
        " #Intro:\n",
        "Tensorflow biblioteca principal de TensorFlow: Aquí importamos módulos específicos de Keras, que es una API de alto nivel para construir y entrenar modelos en TensorFlow.\n",
        "Keras hace que sea mucho más fácil diseñar redes neuronales sin tener que lidiar con los detalles de bajo nivel de TensorFlow."
      ],
      "metadata": {
        "id": "DVZECahAU3yJ"
      },
      "id": "DVZECahAU3yJ"
    },
    {
      "cell_type": "markdown",
      "source": [
        "### Sobre métricas para evaluar el rendimiento del modelo.\n",
        "Las métricas son utilizadas para monitorear el proceso de entrenamiento y evaluar el modelo una vez que está entrenado.\n",
        "\n",
        " A diferencia de las funciones de pérdida, las métricas no se usan para el backpropagation (no se optimizan directamente), sino para dar una comprensión más intuitiva del rendimiento del modelo.\n",
        "\n",
        "AUC (Area Under the Curve): Generalmente se refiere al Área bajo la curva ROC (Receiver Operating Characteristic). Es una métrica de clasificación que evalúa la capacidad de un modelo para distinguir entre clases. Un AUC más cercano a 1.0 indica un mejor rendimiento.\n",
        "\n",
        "Precision: Mide la proporción de verdaderos positivos entre todas las predicciones positivas (verdaderos positivos + falsos positivos). Responde a la pregunta: \"De todas las veces que el modelo dijo que era X, ¿cuántas veces fue realmente X?\".\n",
        "\n",
        "Recall (Sensibilidad): Mide la proporción de verdaderos positivos entre todos los casos positivos reales (verdaderos positivos + falsos negativos). Responde a la pregunta: \"De todas las veces que realmente era X, ¿cuántas el modelo lo detectó correctamente?\".\n"
      ],
      "metadata": {
        "id": "djxFTGP7Wmpm"
      },
      "id": "djxFTGP7Wmpm"
    },
    {
      "cell_type": "code",
      "execution_count": null,
      "id": "10fb3d8f",
      "metadata": {
        "id": "10fb3d8f"
      },
      "outputs": [],
      "source": [
        "import tensorflow as tf #biblioteca principal de TensorFlow\n",
        "\n",
        "#layers:  layers: Contiene las \"piezas de construcción\" de las redes neuronales, como Dense (capas densas/totalmente conectadas),\n",
        "#Conv2D (capas convolucionales), MaxPooling2D (capas de pooling), Flatten (para aplanar datos), Dropout (para regularización), etc.\n",
        "\n",
        "from tensorflow.keras import layers, models # estructura para organizar capas\n",
        "from tensorflow.keras.optimizers import Adam #importa el optimizador adam, estos son los que ajustan los pesos (parametros)de la red\n",
        "#para minimizar la funcion de perdida.\n",
        "from tensorflow.keras.losses import CategoricalCrossentropy\n",
        "from tensorflow.keras.metrics import AUC, Precision, Recall #metricas"
      ]
    },
    {
      "cell_type": "markdown",
      "source": [
        "BATCH_SIZE = 32\n",
        "\n",
        "Es el tamaño del lote. Representa la cantidad de muestras de entrenamiento (imágenes en este contexto) que el modelo procesa en cada paso o iteración del entrenamiento antes de que se actualicen sus pesos (parámetros).\n",
        "Velocidad de entrenamiento: Lotes más grandes pueden procesarse más eficientemente en (GPUs), lo que puede acelerar cada paso.\n",
        "tambien proporcionan una estimación más precisa del gradiente de la función de pérdida (la \"flecha\" que le dice al modelo cómo ajustar sus pesos).\n",
        "\n",
        "Lotes más pequeños introducen más \"ruido\" en la actualización del gradiente, lo que a veces puede ayudar a que el modelo escape de mínimos locales.\n",
        "\n",
        "IMG_SIZE = (224, 224)\n",
        "\n",
        "¿Qué es? Define el tamaño al cual las imágenes de entrada serán redimensionadas. El formato (ancho, alto) es estándar.  \n",
        "Rendimiento vs. Detalle: Un tamaño más grande puede capturar más detalles de la imagen, pero requiere más cómputo y memoria. Un tamaño más pequeño es más rápido, pero podría perder información importante.\n",
        "\n",
        "SEED = 42\n",
        "\n",
        "Es un valor semilla para los generadores de números.\n",
        " Si no fijas una semilla, cada vez que ejecutes tu código, los resultados serán ligeramente diferentes.\n"
      ],
      "metadata": {
        "id": "pkBZ8GKFZDB4"
      },
      "id": "pkBZ8GKFZDB4"
    },
    {
      "cell_type": "code",
      "execution_count": null,
      "id": "6dea1392",
      "metadata": {
        "id": "6dea1392",
        "outputId": "c8d71f03-0af9-4112-c912-7607a44090b4"
      },
      "outputs": [
        {
          "name": "stdout",
          "output_type": "stream",
          "text": [
            "Found 4813 files belonging to 3 classes.\n",
            "Found 808 files belonging to 3 classes.\n",
            "Found 624 files belonging to 3 classes.\n"
          ]
        }
      ],
      "source": [
        "BATCH_SIZE = 32\n",
        "IMG_SIZE = (224, 224)\n",
        "SEED = 42\n",
        "\n",
        "train_ds = tf.keras.preprocessing.image_dataset_from_directory(\n",
        "    \"C:/Users/Javier/Desktop/Proyecto_Neumonia/data/chest_xray/train\",\n",
        "    image_size=IMG_SIZE,\n",
        "    batch_size=BATCH_SIZE,\n",
        "    label_mode=\"categorical\",\n",
        "    seed=SEED\n",
        ")\n",
        "\n",
        "val_ds = tf.keras.preprocessing.image_dataset_from_directory(\n",
        "    \"C:/Users/Javier/Desktop/Proyecto_Neumonia/data/chest_xray/val\",\n",
        "    image_size=IMG_SIZE,\n",
        "    batch_size=BATCH_SIZE,\n",
        "    label_mode=\"categorical\",\n",
        "    seed=SEED\n",
        ")\n",
        "\n",
        "test_ds = tf.keras.preprocessing.image_dataset_from_directory(\n",
        "    \"C:/Users/Javier/Desktop/Proyecto_Neumonia/data/chest_xray/test\",\n",
        "    image_size=IMG_SIZE,\n",
        "    batch_size=BATCH_SIZE,\n",
        "    label_mode=\"categorical\",\n",
        "    seed=SEED\n",
        ")\n"
      ]
    },
    {
      "cell_type": "markdown",
      "source": [
        "Data Augmentation) es una técnica para expandir artificialmente tu dataset de entrenamiento creando nuevas versiones de las imágenes existentes mediante diversas transformaciones.\n",
        "\n",
        "¿Por qué es importante?\n",
        "\n",
        "Previene el sobreajuste (overfitting): Si tu modelo ve la misma imagen de entrenamiento una y otra vez, podría \"memorizarla\" en lugar de aprender características generales. Al mostrarle versiones ligeramente modificadas, el modelo aprende a ser más robusto y a generalizar mejor a imágenes que nunca ha visto.\n",
        "Aumenta la cantidad de datos: En Machine Learning, más datos suelen significar un mejor rendimiento. El aumento de datos te permite tener un dataset de entrenamiento más grande sin recolectar nuevas imágenes."
      ],
      "metadata": {
        "id": "AXAXD_zJcjZP"
      },
      "id": "AXAXD_zJcjZP"
    },
    {
      "cell_type": "markdown",
      "source": [
        "Normalización\n",
        "Función: Crea una capa que escala los valores de los píxeles de las imágenes. Las imágenes suelen tener valores de píxel en un rango de 0 a 255. Al dividirlos por 255, se normalizan a un rango de 0.0 a 1.0."
      ],
      "metadata": {
        "id": "LeC0YouSdP95"
      },
      "id": "LeC0YouSdP95"
    },
    {
      "cell_type": "code",
      "execution_count": null,
      "id": "a2291664",
      "metadata": {
        "id": "a2291664"
      },
      "outputs": [],
      "source": [
        "# --- Aumento de Datos (Data Augmentation) ---\n",
        "# Estas capas aplican transformaciones aleatorias a las imágenes de entrenamiento.\n",
        "# Ayudan a que tu modelo aprenda características más robustas y generalice mejor.\n",
        "data_augmentation = tf.keras.Sequential([\n",
        "    layers.RandomFlip(\"horizontal\"),  # Voltea las imágenes aleatoriamente de forma horizontal.\n",
        "    layers.RandomRotation(0.05),      # Rota las imágenes aleatoriamente dentro de un rango de +/- 0.05 radianes.\n",
        "    layers.RandomZoom(0.1),           # Aplica un zoom aleatorio a las imágenes, hasta un 10%.\n",
        "    layers.RandomContrast(0.1),       # Ajusta el contraste de la imagen aleatoriamente, hasta un 10%.\n",
        "])\n",
        "\n",
        "# --- Normalización ---\n",
        "# Esta capa reescala los valores de píxeles de las imágenes del rango [0, 255] al rango [0, 1].\n",
        "# Esta es una práctica estándar para la mayoría de las redes neuronales.\n",
        "normalization_layer = layers.Rescaling(1./255)\n",
        "\n",
        "# AUTOTUNE ayuda a TensorFlow a procesar datos de forma más eficiente.\n",
        "AUTOTUNE = tf.data.AUTOTUNE\n",
        "\n",
        "# Aplica aumento de datos (solo en entrenamiento) y normalización.\n",
        "train_ds = train_ds.map(lambda x, y: (data_augmentation(x, training=True), y), num_parallel_calls=AUTOTUNE)\n",
        "train_ds = train_ds.map(lambda x, y: (normalization_layer(x), y), num_parallel_calls=AUTOTUNE)\n",
        "\n",
        "# Aplica normalización a los datos de validación y prueba.\n",
        "val_ds = val_ds.map(lambda x, y: (normalization_layer(x), y), num_parallel_calls=AUTOTUNE)\n",
        "test_ds = test_ds.map(lambda x, y: (normalization_layer(x), y), num_parallel_calls=AUTOTUNE)\n",
        "\n",
        "# Mejora de rendimiento: cache, mezcla (solo en entrenamiento) y precarga de datos.\n",
        "train_ds = train_ds.cache().shuffle(1000).prefetch(buffer_size=AUTOTUNE)\n",
        "val_ds = val_ds.cache().prefetch(buffer_size=AUTOTUNE)\n",
        "test_ds = test_ds.cache().prefetch(buffer_size=AUTOTUNE)"
      ]
    },
    {
      "cell_type": "code",
      "execution_count": null,
      "id": "4319fe25",
      "metadata": {
        "id": "4319fe25",
        "outputId": "cefc04c7-42b9-485f-c98c-c63333dc43f7"
      },
      "outputs": [
        {
          "data": {
            "text/html": [
              "<pre style=\"white-space:pre;overflow-x:auto;line-height:normal;font-family:Menlo,'DejaVu Sans Mono',consolas,'Courier New',monospace\"><span style=\"font-weight: bold\">Model: \"sequential_1\"</span>\n",
              "</pre>\n"
            ],
            "text/plain": [
              "\u001b[1mModel: \"sequential_1\"\u001b[0m\n"
            ]
          },
          "metadata": {},
          "output_type": "display_data"
        },
        {
          "data": {
            "text/html": [
              "<pre style=\"white-space:pre;overflow-x:auto;line-height:normal;font-family:Menlo,'DejaVu Sans Mono',consolas,'Courier New',monospace\">┏━━━━━━━━━━━━━━━━━━━━━━━━━━━━━━━━━┳━━━━━━━━━━━━━━━━━━━━━━━━┳━━━━━━━━━━━━━━━┓\n",
              "┃<span style=\"font-weight: bold\"> Layer (type)                    </span>┃<span style=\"font-weight: bold\"> Output Shape           </span>┃<span style=\"font-weight: bold\">       Param # </span>┃\n",
              "┡━━━━━━━━━━━━━━━━━━━━━━━━━━━━━━━━━╇━━━━━━━━━━━━━━━━━━━━━━━━╇━━━━━━━━━━━━━━━┩\n",
              "│ conv2d (<span style=\"color: #0087ff; text-decoration-color: #0087ff\">Conv2D</span>)                 │ (<span style=\"color: #00d7ff; text-decoration-color: #00d7ff\">None</span>, <span style=\"color: #00af00; text-decoration-color: #00af00\">224</span>, <span style=\"color: #00af00; text-decoration-color: #00af00\">224</span>, <span style=\"color: #00af00; text-decoration-color: #00af00\">32</span>)   │           <span style=\"color: #00af00; text-decoration-color: #00af00\">896</span> │\n",
              "├─────────────────────────────────┼────────────────────────┼───────────────┤\n",
              "│ max_pooling2d (<span style=\"color: #0087ff; text-decoration-color: #0087ff\">MaxPooling2D</span>)    │ (<span style=\"color: #00d7ff; text-decoration-color: #00d7ff\">None</span>, <span style=\"color: #00af00; text-decoration-color: #00af00\">112</span>, <span style=\"color: #00af00; text-decoration-color: #00af00\">112</span>, <span style=\"color: #00af00; text-decoration-color: #00af00\">32</span>)   │             <span style=\"color: #00af00; text-decoration-color: #00af00\">0</span> │\n",
              "├─────────────────────────────────┼────────────────────────┼───────────────┤\n",
              "│ conv2d_1 (<span style=\"color: #0087ff; text-decoration-color: #0087ff\">Conv2D</span>)               │ (<span style=\"color: #00d7ff; text-decoration-color: #00d7ff\">None</span>, <span style=\"color: #00af00; text-decoration-color: #00af00\">112</span>, <span style=\"color: #00af00; text-decoration-color: #00af00\">112</span>, <span style=\"color: #00af00; text-decoration-color: #00af00\">64</span>)   │        <span style=\"color: #00af00; text-decoration-color: #00af00\">18,496</span> │\n",
              "├─────────────────────────────────┼────────────────────────┼───────────────┤\n",
              "│ max_pooling2d_1 (<span style=\"color: #0087ff; text-decoration-color: #0087ff\">MaxPooling2D</span>)  │ (<span style=\"color: #00d7ff; text-decoration-color: #00d7ff\">None</span>, <span style=\"color: #00af00; text-decoration-color: #00af00\">56</span>, <span style=\"color: #00af00; text-decoration-color: #00af00\">56</span>, <span style=\"color: #00af00; text-decoration-color: #00af00\">64</span>)     │             <span style=\"color: #00af00; text-decoration-color: #00af00\">0</span> │\n",
              "├─────────────────────────────────┼────────────────────────┼───────────────┤\n",
              "│ conv2d_2 (<span style=\"color: #0087ff; text-decoration-color: #0087ff\">Conv2D</span>)               │ (<span style=\"color: #00d7ff; text-decoration-color: #00d7ff\">None</span>, <span style=\"color: #00af00; text-decoration-color: #00af00\">56</span>, <span style=\"color: #00af00; text-decoration-color: #00af00\">56</span>, <span style=\"color: #00af00; text-decoration-color: #00af00\">128</span>)    │        <span style=\"color: #00af00; text-decoration-color: #00af00\">73,856</span> │\n",
              "├─────────────────────────────────┼────────────────────────┼───────────────┤\n",
              "│ max_pooling2d_2 (<span style=\"color: #0087ff; text-decoration-color: #0087ff\">MaxPooling2D</span>)  │ (<span style=\"color: #00d7ff; text-decoration-color: #00d7ff\">None</span>, <span style=\"color: #00af00; text-decoration-color: #00af00\">28</span>, <span style=\"color: #00af00; text-decoration-color: #00af00\">28</span>, <span style=\"color: #00af00; text-decoration-color: #00af00\">128</span>)    │             <span style=\"color: #00af00; text-decoration-color: #00af00\">0</span> │\n",
              "├─────────────────────────────────┼────────────────────────┼───────────────┤\n",
              "│ flatten (<span style=\"color: #0087ff; text-decoration-color: #0087ff\">Flatten</span>)               │ (<span style=\"color: #00d7ff; text-decoration-color: #00d7ff\">None</span>, <span style=\"color: #00af00; text-decoration-color: #00af00\">100352</span>)         │             <span style=\"color: #00af00; text-decoration-color: #00af00\">0</span> │\n",
              "├─────────────────────────────────┼────────────────────────┼───────────────┤\n",
              "│ dense (<span style=\"color: #0087ff; text-decoration-color: #0087ff\">Dense</span>)                   │ (<span style=\"color: #00d7ff; text-decoration-color: #00d7ff\">None</span>, <span style=\"color: #00af00; text-decoration-color: #00af00\">128</span>)            │    <span style=\"color: #00af00; text-decoration-color: #00af00\">12,845,184</span> │\n",
              "├─────────────────────────────────┼────────────────────────┼───────────────┤\n",
              "│ dropout (<span style=\"color: #0087ff; text-decoration-color: #0087ff\">Dropout</span>)               │ (<span style=\"color: #00d7ff; text-decoration-color: #00d7ff\">None</span>, <span style=\"color: #00af00; text-decoration-color: #00af00\">128</span>)            │             <span style=\"color: #00af00; text-decoration-color: #00af00\">0</span> │\n",
              "├─────────────────────────────────┼────────────────────────┼───────────────┤\n",
              "│ dense_1 (<span style=\"color: #0087ff; text-decoration-color: #0087ff\">Dense</span>)                 │ (<span style=\"color: #00d7ff; text-decoration-color: #00d7ff\">None</span>, <span style=\"color: #00af00; text-decoration-color: #00af00\">3</span>)              │           <span style=\"color: #00af00; text-decoration-color: #00af00\">387</span> │\n",
              "└─────────────────────────────────┴────────────────────────┴───────────────┘\n",
              "</pre>\n"
            ],
            "text/plain": [
              "┏━━━━━━━━━━━━━━━━━━━━━━━━━━━━━━━━━┳━━━━━━━━━━━━━━━━━━━━━━━━┳━━━━━━━━━━━━━━━┓\n",
              "┃\u001b[1m \u001b[0m\u001b[1mLayer (type)                   \u001b[0m\u001b[1m \u001b[0m┃\u001b[1m \u001b[0m\u001b[1mOutput Shape          \u001b[0m\u001b[1m \u001b[0m┃\u001b[1m \u001b[0m\u001b[1m      Param #\u001b[0m\u001b[1m \u001b[0m┃\n",
              "┡━━━━━━━━━━━━━━━━━━━━━━━━━━━━━━━━━╇━━━━━━━━━━━━━━━━━━━━━━━━╇━━━━━━━━━━━━━━━┩\n",
              "│ conv2d (\u001b[38;5;33mConv2D\u001b[0m)                 │ (\u001b[38;5;45mNone\u001b[0m, \u001b[38;5;34m224\u001b[0m, \u001b[38;5;34m224\u001b[0m, \u001b[38;5;34m32\u001b[0m)   │           \u001b[38;5;34m896\u001b[0m │\n",
              "├─────────────────────────────────┼────────────────────────┼───────────────┤\n",
              "│ max_pooling2d (\u001b[38;5;33mMaxPooling2D\u001b[0m)    │ (\u001b[38;5;45mNone\u001b[0m, \u001b[38;5;34m112\u001b[0m, \u001b[38;5;34m112\u001b[0m, \u001b[38;5;34m32\u001b[0m)   │             \u001b[38;5;34m0\u001b[0m │\n",
              "├─────────────────────────────────┼────────────────────────┼───────────────┤\n",
              "│ conv2d_1 (\u001b[38;5;33mConv2D\u001b[0m)               │ (\u001b[38;5;45mNone\u001b[0m, \u001b[38;5;34m112\u001b[0m, \u001b[38;5;34m112\u001b[0m, \u001b[38;5;34m64\u001b[0m)   │        \u001b[38;5;34m18,496\u001b[0m │\n",
              "├─────────────────────────────────┼────────────────────────┼───────────────┤\n",
              "│ max_pooling2d_1 (\u001b[38;5;33mMaxPooling2D\u001b[0m)  │ (\u001b[38;5;45mNone\u001b[0m, \u001b[38;5;34m56\u001b[0m, \u001b[38;5;34m56\u001b[0m, \u001b[38;5;34m64\u001b[0m)     │             \u001b[38;5;34m0\u001b[0m │\n",
              "├─────────────────────────────────┼────────────────────────┼───────────────┤\n",
              "│ conv2d_2 (\u001b[38;5;33mConv2D\u001b[0m)               │ (\u001b[38;5;45mNone\u001b[0m, \u001b[38;5;34m56\u001b[0m, \u001b[38;5;34m56\u001b[0m, \u001b[38;5;34m128\u001b[0m)    │        \u001b[38;5;34m73,856\u001b[0m │\n",
              "├─────────────────────────────────┼────────────────────────┼───────────────┤\n",
              "│ max_pooling2d_2 (\u001b[38;5;33mMaxPooling2D\u001b[0m)  │ (\u001b[38;5;45mNone\u001b[0m, \u001b[38;5;34m28\u001b[0m, \u001b[38;5;34m28\u001b[0m, \u001b[38;5;34m128\u001b[0m)    │             \u001b[38;5;34m0\u001b[0m │\n",
              "├─────────────────────────────────┼────────────────────────┼───────────────┤\n",
              "│ flatten (\u001b[38;5;33mFlatten\u001b[0m)               │ (\u001b[38;5;45mNone\u001b[0m, \u001b[38;5;34m100352\u001b[0m)         │             \u001b[38;5;34m0\u001b[0m │\n",
              "├─────────────────────────────────┼────────────────────────┼───────────────┤\n",
              "│ dense (\u001b[38;5;33mDense\u001b[0m)                   │ (\u001b[38;5;45mNone\u001b[0m, \u001b[38;5;34m128\u001b[0m)            │    \u001b[38;5;34m12,845,184\u001b[0m │\n",
              "├─────────────────────────────────┼────────────────────────┼───────────────┤\n",
              "│ dropout (\u001b[38;5;33mDropout\u001b[0m)               │ (\u001b[38;5;45mNone\u001b[0m, \u001b[38;5;34m128\u001b[0m)            │             \u001b[38;5;34m0\u001b[0m │\n",
              "├─────────────────────────────────┼────────────────────────┼───────────────┤\n",
              "│ dense_1 (\u001b[38;5;33mDense\u001b[0m)                 │ (\u001b[38;5;45mNone\u001b[0m, \u001b[38;5;34m3\u001b[0m)              │           \u001b[38;5;34m387\u001b[0m │\n",
              "└─────────────────────────────────┴────────────────────────┴───────────────┘\n"
            ]
          },
          "metadata": {},
          "output_type": "display_data"
        },
        {
          "data": {
            "text/html": [
              "<pre style=\"white-space:pre;overflow-x:auto;line-height:normal;font-family:Menlo,'DejaVu Sans Mono',consolas,'Courier New',monospace\"><span style=\"font-weight: bold\"> Total params: </span><span style=\"color: #00af00; text-decoration-color: #00af00\">12,938,819</span> (49.36 MB)\n",
              "</pre>\n"
            ],
            "text/plain": [
              "\u001b[1m Total params: \u001b[0m\u001b[38;5;34m12,938,819\u001b[0m (49.36 MB)\n"
            ]
          },
          "metadata": {},
          "output_type": "display_data"
        },
        {
          "data": {
            "text/html": [
              "<pre style=\"white-space:pre;overflow-x:auto;line-height:normal;font-family:Menlo,'DejaVu Sans Mono',consolas,'Courier New',monospace\"><span style=\"font-weight: bold\"> Trainable params: </span><span style=\"color: #00af00; text-decoration-color: #00af00\">12,938,819</span> (49.36 MB)\n",
              "</pre>\n"
            ],
            "text/plain": [
              "\u001b[1m Trainable params: \u001b[0m\u001b[38;5;34m12,938,819\u001b[0m (49.36 MB)\n"
            ]
          },
          "metadata": {},
          "output_type": "display_data"
        },
        {
          "data": {
            "text/html": [
              "<pre style=\"white-space:pre;overflow-x:auto;line-height:normal;font-family:Menlo,'DejaVu Sans Mono',consolas,'Courier New',monospace\"><span style=\"font-weight: bold\"> Non-trainable params: </span><span style=\"color: #00af00; text-decoration-color: #00af00\">0</span> (0.00 B)\n",
              "</pre>\n"
            ],
            "text/plain": [
              "\u001b[1m Non-trainable params: \u001b[0m\u001b[38;5;34m0\u001b[0m (0.00 B)\n"
            ]
          },
          "metadata": {},
          "output_type": "display_data"
        }
      ],
      "source": [
        "model = models.Sequential([ # Creamos un modelo \"Sequential\", es decir,  define la arquitectura de una red neuronal convolucional\n",
        "    layers.Input(shape=(224, 224, 3)), # Esta es la primera capa y le dice al modelo el tamaño de tus imágenes de entrada.\n",
        "                                     # (224, 224): las imágenes son de 224 píxeles de alto por 224 píxeles de ancho.\n",
        "                                     # 3: Las imágenes tienen 3 canales de color (Rojo, Verde, Azul - RGB).\n",
        "\n",
        "    # Bloque 1 (Extracción de Características Básicas)\n",
        "    layers.Conv2D(32, (3, 3), activation='relu', padding='same'), # Capa Convolucional: Es como un \"detector de patrones\"\n",
        "                                                                 # 32: Número de filtros (detectores) que esta capa va a aprender.\n",
        "                                                                 #      Cada filtro busca un patrón diferente (bordes, texturas).\n",
        "                                                                 # (3, 3): Tamaño del kernel/filtro. Es una ventana de 3x3 píxeles que se desliza por la imagen.\n",
        "                                                                 # activation='relu': Función de activación que introduce no-linealidad. Ayuda a la red a aprender patrones más complejos.\n",
        "                                                                 # padding='same': Asegura que la imagen de salida tenga el mismo tamaño espacial que la de entrada, añadiendo píxeles de relleno si es necesario.\n",
        "    layers.MaxPooling2D((2, 2)), # Capa de Max Pooling: Reduce el tamaño de la imagen y simplifica la información.\n",
        "                                # (2, 2): El tamaño de la ventana de pooling. Toma el valor más alto en cada región de 2x2.\n",
        "                                #          Esto ayuda a hacer la red más robusta a pequeñas variaciones en la posición de los patrones.\n",
        "\n",
        "    # Bloque 2 (Extracción de Características de Mayor Nivel)\n",
        "    layers.Conv2D(64, (3, 3), activation='relu', padding='same'), # Otra Capa Convolucional: similar a la anterior, pero con más filtros (64).\n",
        "                                                                 # Estos filtros aprenderán a reconocer patrones más complejos y abstractos.\n",
        "    layers.MaxPooling2D((2, 2)), # Otra Capa de Max Pooling: sigue reduciendo el tamaño espacial de los datos.\n",
        "\n",
        "    # Bloque 3 (Extracción de Características Aún Más Abstractas)\n",
        "    layers.Conv2D(128, (3, 3), activation='relu', padding='same'), # Más filtros (128) para detectar patrones aún más complejos.\n",
        "    layers.MaxPooling2D((2, 2)), # Última Capa de Max Pooling: reduce aún más las dimensiones.\n",
        "\n",
        "    # Flatten + Dense (Capas para Clasificación Final)\n",
        "    layers.Flatten(), # Capa Flatten: Transforma los datos 3D (alto x ancho x filtros) en un vector 1D largo.\n",
        "                      # Esto es necesario para conectar las capas convolucionales (que manejan dimensiones espaciales)\n",
        "                      # con las capas densas (que esperan un vector plano de entrada).\n",
        "\n",
        "    layers.Dense(128, activation='relu'), # Capa Densa (Fully Connected): Es una capa \"tradicional\" de red neuronal.\n",
        "                                          # 128: Número de neuronas en esta capa. Combina las características planas de la capa anterior.\n",
        "                                          # activation='relu': Introduce más no-linealidad.\n",
        "\n",
        "    layers.Dropout(0.5), # Capa Dropout: Una técnica de regularización para prevenir el sobreajuste (overfitting).\n",
        "                         # 0.5: Significa que el 50% de las neuronas de la capa anterior se \"apagan\" aleatoriamente durante cada paso de entrenamiento.\n",
        "                         #      Esto fuerza a la red a no depender demasiado de una sola neurona o característica, haciéndola más robusta.\n",
        "\n",
        "    layers.Dense(3, activation='softmax') # Capa Densa de Salida: La capa final que produce la predicción.\n",
        "                                          # 3: Número de neuronas en esta capa, ¡lo que significa que tu modelo va a clasificar en 3 clases diferentes!\n",
        "                                          #    (Por ejemplo, perro, gato, pájaro).\n",
        "                                          # activation='softmax': Función de activación para problemas de clasificación multiclase.\n",
        "                                          #                      Convierte las salidas de las 3 neuronas en probabilidades que suman 1.\n",
        "                                          #                      La clase con la probabilidad más alta es la predicción del modelo.\n",
        "])\n",
        "\n",
        "model.summary() # Muestra un resumen de la arquitectura del modelo, incluyendo:\n",
        "              # - Las capas, sus tipos y formas de salida.\n",
        "              # - El número total de parámetros (pesos y sesgos) en cada capa y en todo el modelo.\n",
        "              #   ¡Estos son los PARÁMETROS que el modelo APRENDERÁ durante el entrenamiento!\n"
      ]
    },
    {
      "cell_type": "code",
      "execution_count": null,
      "id": "0c0d10bc",
      "metadata": {
        "id": "0c0d10bc"
      },
      "outputs": [],
      "source": [
        "#optimizer: Le dice al modelo cómo va a ajustar sus pesos (los parámetros internos de la red) para minimizar el error.\n",
        "model.compile(\n",
        "    optimizer=Adam(learning_rate=0.0001),# Es la tasa de aprendizaje. Controla el tamaño de los \"pasos\" que el optimizador da para ajustar los pesos en cada iteración.\n",
        "    loss=CategoricalCrossentropy(),       # Esta función es la que mide el error de tu modelo en cada predicción. Es lo que el optimizador intenta minimizar.\n",
        "    #crossentropy:\n",
        "\n",
        "    metrics=[                             # Son las métricas de evaluación que Keras va a calcular y mostrar durante el entrenamiento y al evalúar el modelo\n",
        "        'accuracy',                       # Precisión general: ¿cuántas predicciones fueron correctas?\n",
        "        Precision(name='precision'),      # Precisión: De las que predijo como positivas, ¿cuántas lo eran realmente?\n",
        "        Recall(name='recall'),            # Recall (Sensibilidad): De todas las que eran realmente positivas, ¿cuántas detectó?\n",
        "        AUC(name='auc'),                  # AUC: Mide la capacidad del modelo para distinguir entre clases.\n",
        "    ]\n",
        ")"
      ]
    },
    {
      "cell_type": "markdown",
      "source": [
        "Los callbacks son funciones especiales que puedes pasarle a tu modelo durante el entrenamiento para que realice acciones específicas en diferentes etapas (al principio de una época, al final de un lote, etc.).  útiles para automatizar tareas de monitoreo y optimización del entrenamiento.\n",
        "- early stopping: detiene el entrenamiento automáticamente si la métrica que estás monitoreando (val_loss en este caso) deja de mejorar durante un cierto número de épocas. patience=5: Significa que el entrenamiento continuará durante 5 épocas adicionales después de la última vez que val_loss mostró una mejora. Este cellback previene el overfiting.\n",
        "\n",
        "- ReduceLROnPlateau (Reducir Tasa de Aprendizaje en Meseta) ¿Qué hace? Este callback reduce la tasa de aprendizaje del optimizador si la métrica monitoreada (val_loss) se estanca (entra en una \"meseta\") durante un cierto número de épocas.Patience 3Espera 3 épocas sin mejora en val_loss antes de activar la reducción\n",
        "\n",
        "- ModelCheckpoint (Guardar el Mejor Modelo) ¿Qué hace? Este callback guarda tu modelo durante el entrenamiento. Es extremadamente útil para asegurar que siempre tengas una copia del modelo"
      ],
      "metadata": {
        "id": "k43zFvI2gxio"
      },
      "id": "k43zFvI2gxio"
    },
    {
      "cell_type": "code",
      "execution_count": null,
      "id": "842b0a0b",
      "metadata": {
        "id": "842b0a0b"
      },
      "outputs": [],
      "source": [
        "from tensorflow.keras.callbacks import EarlyStopping, ReduceLROnPlateau, ModelCheckpoint\n",
        "\n",
        "early_stopping = EarlyStopping(\n",
        "    monitor='val_loss',         # ¿Qué métrica monitorear? La pérdida del conjunto de validación.\n",
        "    patience=5,                 # ¿Cuántas épocas esperar si no hay mejora?\n",
        "    restore_best_weights=True   # ¿Volver a los pesos de la mejor época?\n",
        ")\n",
        "reduce_lr = ReduceLROnPlateau(\n",
        "    monitor='val_loss', # ¿Qué métrica monitorear para decidir si reducir la tasa de aprendizaje?\n",
        "    factor=0.2,         # ¿En qué proporción reducir la tasa de aprendizaje? (La multiplica por 0.2, es decir, la reduce al 20%).\n",
        "    patience=3,         # ¿Cuántas épocas esperar sin mejora antes de reducir?\n",
        "    verbose=1,          # ¿Mostrar mensajes cuando se reduce la tasa de aprendizaje?\n",
        "    min_lr=1e-6         # ¿Cuál es la tasa de aprendizaje mínima permitida?\n",
        ")\n",
        "\n",
        "checkpoint = ModelCheckpoint(\n",
        "     filepath='mejor_modelo.h5', # ¿Dónde guardar el modelo? (Ruta y nombre del archivo).\n",
        "    monitor='val_loss',     # ¿Qué métrica monitorear para decidir cuándo guardar?\n",
        "    save_best_only=True,    # ¿Guardar solo el modelo que tiene el mejor valor de la métrica monitoreada?\n",
        "    verbose=1               # ¿Mostrar mensajes cuando se guarda un modelo?\n",
        ")"
      ]
    },
    {
      "cell_type": "markdown",
      "source": [
        "Qué sucede durante model.fit()?\n",
        "Cuando ejecutas model.fit(), la red neuronal entra en un ciclo de aprendizaje iterativo que se repite durante el número de épocas especificado:\n",
        "\n",
        "\n",
        "El modelo toma los datos del train_ds en lotes (batches).\n",
        "Para cada lote:\n",
        "\n",
        "Pasa adelante (Forward Pass): Realiza predicciones usando los pesos actuales.\n",
        "\n",
        "Calcula la pérdida: Compara las predicciones con las respuestas reales de train_ds usando la función de pérdida que definiste en model.compile().\n",
        "\n",
        "Backpropagation: Calcula los gradientes de la pérdida con respecto a cada peso del modelo. Estos gradientes le indican a la red cuánto y en qué dirección ajustar cada peso.\n",
        "\n",
        "Optimización: El optimizador (ej., Adam) utiliza esos gradientes y la tasa de aprendizaje para actualizar los pesos del modelo, buscando minimizar la pérdida.\n",
        "\n",
        "Validación: Al final de cada época, el modelo evalúa su rendimiento en el val_ds (datos de validación) para ver qué tan bien generaliza a datos que no ha usado para ajustar sus pesos.\n",
        "\n",
        "Activación de Callbacks: Después de cada época, los callbacks\n",
        "(early_stop, reduce_lr, checkpoint) revisan el rendimiento del modelo (generalmente en val_loss) y deciden si deben realizar alguna acción (detener el entrenamiento, reducir la tasa de aprendizaje, guardar el modelo).\n",
        "\n",
        "history: La variable history va a almacenar un objeto que contiene los registros de rendimiento del modelo durante el entrenamiento. Esto incluye los valores de la pérdida y de todas las métricas (precisión, AUC, etc.) tanto para el conjunto de entrenamiento como para el de validación, en cada época. Esto es crucial para graficar el progreso y analizar el aprendizaje de tu modelo."
      ],
      "metadata": {
        "id": "7ZE0YGCOizth"
      },
      "id": "7ZE0YGCOizth"
    },
    {
      "cell_type": "code",
      "execution_count": null,
      "id": "903dfa23",
      "metadata": {
        "id": "903dfa23",
        "outputId": "c3d630ad-e911-41e7-c433-5bd6e7ef2a20"
      },
      "outputs": [
        {
          "name": "stdout",
          "output_type": "stream",
          "text": [
            "Epoch 1/30\n",
            "\u001b[1m151/151\u001b[0m \u001b[32m━━━━━━━━━━━━━━━━━━━━\u001b[0m\u001b[37m\u001b[0m \u001b[1m0s\u001b[0m 526ms/step - accuracy: 0.5160 - auc: 0.6744 - loss: 1.0180 - precision: 0.5509 - recall: 0.2197"
          ]
        },
        {
          "name": "stderr",
          "output_type": "stream",
          "text": [
            "WARNING:absl:You are saving your model as an HDF5 file via `model.save()` or `keras.saving.save_model(model)`. This file format is considered legacy. We recommend using instead the native Keras format, e.g. `model.save('my_model.keras')` or `keras.saving.save_model(model, 'my_model.keras')`. \n"
          ]
        },
        {
          "name": "stdout",
          "output_type": "stream",
          "text": [
            "\u001b[1m151/151\u001b[0m \u001b[32m━━━━━━━━━━━━━━━━━━━━\u001b[0m\u001b[37m\u001b[0m \u001b[1m100s\u001b[0m 556ms/step - accuracy: 0.5162 - auc: 0.6748 - loss: 1.0175 - precision: 0.5514 - recall: 0.2202 - val_accuracy: 0.6646 - val_auc: 0.8451 - val_loss: 0.7567 - val_precision: 0.7399 - val_recall: 0.5916 - learning_rate: 1.0000e-04\n",
            "Epoch 2/30\n",
            "\u001b[1m151/151\u001b[0m \u001b[32m━━━━━━━━━━━━━━━━━━━━\u001b[0m\u001b[37m\u001b[0m \u001b[1m0s\u001b[0m 546ms/step - accuracy: 0.6653 - auc: 0.8281 - loss: 0.7953 - precision: 0.7452 - recall: 0.5144"
          ]
        },
        {
          "name": "stderr",
          "output_type": "stream",
          "text": [
            "WARNING:absl:You are saving your model as an HDF5 file via `model.save()` or `keras.saving.save_model(model)`. This file format is considered legacy. We recommend using instead the native Keras format, e.g. `model.save('my_model.keras')` or `keras.saving.save_model(model, 'my_model.keras')`. \n"
          ]
        },
        {
          "name": "stdout",
          "output_type": "stream",
          "text": [
            "\u001b[1m151/151\u001b[0m \u001b[32m━━━━━━━━━━━━━━━━━━━━\u001b[0m\u001b[37m\u001b[0m \u001b[1m86s\u001b[0m 567ms/step - accuracy: 0.6654 - auc: 0.8282 - loss: 0.7951 - precision: 0.7453 - recall: 0.5147 - val_accuracy: 0.7005 - val_auc: 0.8665 - val_loss: 0.7184 - val_precision: 0.7333 - val_recall: 0.6671 - learning_rate: 1.0000e-04\n",
            "Epoch 3/30\n",
            "\u001b[1m151/151\u001b[0m \u001b[32m━━━━━━━━━━━━━━━━━━━━\u001b[0m\u001b[37m\u001b[0m \u001b[1m0s\u001b[0m 582ms/step - accuracy: 0.7296 - auc: 0.8755 - loss: 0.6822 - precision: 0.7751 - recall: 0.6401"
          ]
        },
        {
          "name": "stderr",
          "output_type": "stream",
          "text": [
            "WARNING:absl:You are saving your model as an HDF5 file via `model.save()` or `keras.saving.save_model(model)`. This file format is considered legacy. We recommend using instead the native Keras format, e.g. `model.save('my_model.keras')` or `keras.saving.save_model(model, 'my_model.keras')`. \n"
          ]
        },
        {
          "name": "stdout",
          "output_type": "stream",
          "text": [
            "\u001b[1m151/151\u001b[0m \u001b[32m━━━━━━━━━━━━━━━━━━━━\u001b[0m\u001b[37m\u001b[0m \u001b[1m91s\u001b[0m 602ms/step - accuracy: 0.7296 - auc: 0.8755 - loss: 0.6822 - precision: 0.7752 - recall: 0.6402 - val_accuracy: 0.7277 - val_auc: 0.8833 - val_loss: 0.6959 - val_precision: 0.7360 - val_recall: 0.7141 - learning_rate: 1.0000e-04\n",
            "Epoch 4/30\n",
            "\u001b[1m151/151\u001b[0m \u001b[32m━━━━━━━━━━━━━━━━━━━━\u001b[0m\u001b[37m\u001b[0m \u001b[1m0s\u001b[0m 575ms/step - accuracy: 0.7529 - auc: 0.8920 - loss: 0.6316 - precision: 0.7947 - recall: 0.6882"
          ]
        },
        {
          "name": "stderr",
          "output_type": "stream",
          "text": [
            "WARNING:absl:You are saving your model as an HDF5 file via `model.save()` or `keras.saving.save_model(model)`. This file format is considered legacy. We recommend using instead the native Keras format, e.g. `model.save('my_model.keras')` or `keras.saving.save_model(model, 'my_model.keras')`. \n"
          ]
        },
        {
          "name": "stdout",
          "output_type": "stream",
          "text": [
            "\u001b[1m151/151\u001b[0m \u001b[32m━━━━━━━━━━━━━━━━━━━━\u001b[0m\u001b[37m\u001b[0m \u001b[1m90s\u001b[0m 597ms/step - accuracy: 0.7528 - auc: 0.8920 - loss: 0.6316 - precision: 0.7946 - recall: 0.6881 - val_accuracy: 0.7636 - val_auc: 0.9073 - val_loss: 0.5885 - val_precision: 0.7936 - val_recall: 0.7376 - learning_rate: 1.0000e-04\n",
            "Epoch 5/30\n",
            "\u001b[1m151/151\u001b[0m \u001b[32m━━━━━━━━━━━━━━━━━━━━\u001b[0m\u001b[37m\u001b[0m \u001b[1m83s\u001b[0m 551ms/step - accuracy: 0.7623 - auc: 0.9012 - loss: 0.6006 - precision: 0.7996 - recall: 0.7055 - val_accuracy: 0.7277 - val_auc: 0.8936 - val_loss: 0.6790 - val_precision: 0.7351 - val_recall: 0.7178 - learning_rate: 1.0000e-04\n",
            "Epoch 6/30\n",
            "\u001b[1m151/151\u001b[0m \u001b[32m━━━━━━━━━━━━━━━━━━━━\u001b[0m\u001b[37m\u001b[0m \u001b[1m0s\u001b[0m 581ms/step - accuracy: 0.7632 - auc: 0.9046 - loss: 0.5883 - precision: 0.7951 - recall: 0.7089"
          ]
        },
        {
          "name": "stderr",
          "output_type": "stream",
          "text": [
            "WARNING:absl:You are saving your model as an HDF5 file via `model.save()` or `keras.saving.save_model(model)`. This file format is considered legacy. We recommend using instead the native Keras format, e.g. `model.save('my_model.keras')` or `keras.saving.save_model(model, 'my_model.keras')`. \n"
          ]
        },
        {
          "name": "stdout",
          "output_type": "stream",
          "text": [
            "\u001b[1m151/151\u001b[0m \u001b[32m━━━━━━━━━━━━━━━━━━━━\u001b[0m\u001b[37m\u001b[0m \u001b[1m91s\u001b[0m 603ms/step - accuracy: 0.7632 - auc: 0.9046 - loss: 0.5883 - precision: 0.7951 - recall: 0.7089 - val_accuracy: 0.7710 - val_auc: 0.9170 - val_loss: 0.5366 - val_precision: 0.8003 - val_recall: 0.7488 - learning_rate: 1.0000e-04\n",
            "Epoch 7/30\n",
            "\u001b[1m151/151\u001b[0m \u001b[32m━━━━━━━━━━━━━━━━━━━━\u001b[0m\u001b[37m\u001b[0m \u001b[1m87s\u001b[0m 574ms/step - accuracy: 0.7591 - auc: 0.9072 - loss: 0.5750 - precision: 0.7932 - recall: 0.7019 - val_accuracy: 0.7599 - val_auc: 0.9166 - val_loss: 0.5509 - val_precision: 0.7735 - val_recall: 0.7525 - learning_rate: 1.0000e-04\n",
            "Epoch 8/30\n",
            "\u001b[1m151/151\u001b[0m \u001b[32m━━━━━━━━━━━━━━━━━━━━\u001b[0m\u001b[37m\u001b[0m \u001b[1m91s\u001b[0m 603ms/step - accuracy: 0.7578 - auc: 0.9100 - loss: 0.5647 - precision: 0.7851 - recall: 0.7183 - val_accuracy: 0.7686 - val_auc: 0.9148 - val_loss: 0.5558 - val_precision: 0.7782 - val_recall: 0.7512 - learning_rate: 1.0000e-04\n",
            "Epoch 9/30\n",
            "\u001b[1m151/151\u001b[0m \u001b[32m━━━━━━━━━━━━━━━━━━━━\u001b[0m\u001b[37m\u001b[0m \u001b[1m91s\u001b[0m 603ms/step - accuracy: 0.7751 - auc: 0.9148 - loss: 0.5491 - precision: 0.7943 - recall: 0.7306 - val_accuracy: 0.7636 - val_auc: 0.9167 - val_loss: 0.5441 - val_precision: 0.7781 - val_recall: 0.7463 - learning_rate: 1.0000e-04\n",
            "Epoch 10/30\n",
            "\u001b[1m151/151\u001b[0m \u001b[32m━━━━━━━━━━━━━━━━━━━━\u001b[0m\u001b[37m\u001b[0m \u001b[1m86s\u001b[0m 569ms/step - accuracy: 0.7881 - auc: 0.9275 - loss: 0.5088 - precision: 0.8160 - recall: 0.7406 - val_accuracy: 0.7611 - val_auc: 0.9157 - val_loss: 0.5506 - val_precision: 0.7766 - val_recall: 0.7488 - learning_rate: 2.0000e-05\n",
            "Epoch 11/30\n",
            "\u001b[1m151/151\u001b[0m \u001b[32m━━━━━━━━━━━━━━━━━━━━\u001b[0m\u001b[37m\u001b[0m \u001b[1m0s\u001b[0m 566ms/step - accuracy: 0.7863 - auc: 0.9294 - loss: 0.5021 - precision: 0.8141 - recall: 0.7477"
          ]
        },
        {
          "name": "stderr",
          "output_type": "stream",
          "text": [
            "WARNING:absl:You are saving your model as an HDF5 file via `model.save()` or `keras.saving.save_model(model)`. This file format is considered legacy. We recommend using instead the native Keras format, e.g. `model.save('my_model.keras')` or `keras.saving.save_model(model, 'my_model.keras')`. \n"
          ]
        },
        {
          "name": "stdout",
          "output_type": "stream",
          "text": [
            "\u001b[1m151/151\u001b[0m \u001b[32m━━━━━━━━━━━━━━━━━━━━\u001b[0m\u001b[37m\u001b[0m \u001b[1m89s\u001b[0m 587ms/step - accuracy: 0.7863 - auc: 0.9294 - loss: 0.5022 - precision: 0.8141 - recall: 0.7477 - val_accuracy: 0.7710 - val_auc: 0.9212 - val_loss: 0.5255 - val_precision: 0.7883 - val_recall: 0.7512 - learning_rate: 2.0000e-05\n",
            "Epoch 12/30\n",
            "\u001b[1m151/151\u001b[0m \u001b[32m━━━━━━━━━━━━━━━━━━━━\u001b[0m\u001b[37m\u001b[0m \u001b[1m90s\u001b[0m 598ms/step - accuracy: 0.7856 - auc: 0.9315 - loss: 0.4909 - precision: 0.8078 - recall: 0.7586 - val_accuracy: 0.7723 - val_auc: 0.9191 - val_loss: 0.5334 - val_precision: 0.7842 - val_recall: 0.7512 - learning_rate: 2.0000e-05\n",
            "Epoch 13/30\n",
            "\u001b[1m151/151\u001b[0m \u001b[32m━━━━━━━━━━━━━━━━━━━━\u001b[0m\u001b[37m\u001b[0m \u001b[1m90s\u001b[0m 594ms/step - accuracy: 0.7848 - auc: 0.9292 - loss: 0.5014 - precision: 0.8089 - recall: 0.7523 - val_accuracy: 0.7673 - val_auc: 0.9188 - val_loss: 0.5343 - val_precision: 0.7823 - val_recall: 0.7562 - learning_rate: 2.0000e-05\n",
            "Epoch 14/30\n",
            "\u001b[1m151/151\u001b[0m \u001b[32m━━━━━━━━━━━━━━━━━━━━\u001b[0m\u001b[37m\u001b[0m \u001b[1m0s\u001b[0m 574ms/step - accuracy: 0.7902 - auc: 0.9348 - loss: 0.4813 - precision: 0.8141 - recall: 0.7607"
          ]
        },
        {
          "name": "stderr",
          "output_type": "stream",
          "text": [
            "WARNING:absl:You are saving your model as an HDF5 file via `model.save()` or `keras.saving.save_model(model)`. This file format is considered legacy. We recommend using instead the native Keras format, e.g. `model.save('my_model.keras')` or `keras.saving.save_model(model, 'my_model.keras')`. \n"
          ]
        },
        {
          "name": "stdout",
          "output_type": "stream",
          "text": [
            "\u001b[1m151/151\u001b[0m \u001b[32m━━━━━━━━━━━━━━━━━━━━\u001b[0m\u001b[37m\u001b[0m \u001b[1m90s\u001b[0m 595ms/step - accuracy: 0.7902 - auc: 0.9348 - loss: 0.4814 - precision: 0.8140 - recall: 0.7607 - val_accuracy: 0.7834 - val_auc: 0.9235 - val_loss: 0.5173 - val_precision: 0.7945 - val_recall: 0.7562 - learning_rate: 2.0000e-05\n",
            "Epoch 15/30\n",
            "\u001b[1m151/151\u001b[0m \u001b[32m━━━━━━━━━━━━━━━━━━━━\u001b[0m\u001b[37m\u001b[0m \u001b[1m85s\u001b[0m 561ms/step - accuracy: 0.8027 - auc: 0.9371 - loss: 0.4747 - precision: 0.8256 - recall: 0.7697 - val_accuracy: 0.7809 - val_auc: 0.9226 - val_loss: 0.5199 - val_precision: 0.7935 - val_recall: 0.7562 - learning_rate: 2.0000e-05\n",
            "Epoch 16/30\n",
            "\u001b[1m151/151\u001b[0m \u001b[32m━━━━━━━━━━━━━━━━━━━━\u001b[0m\u001b[37m\u001b[0m \u001b[1m85s\u001b[0m 560ms/step - accuracy: 0.7956 - auc: 0.9338 - loss: 0.4833 - precision: 0.8186 - recall: 0.7622 - val_accuracy: 0.7686 - val_auc: 0.9202 - val_loss: 0.5386 - val_precision: 0.7799 - val_recall: 0.7587 - learning_rate: 2.0000e-05\n",
            "Epoch 17/30\n",
            "\u001b[1m151/151\u001b[0m \u001b[32m━━━━━━━━━━━━━━━━━━━━\u001b[0m\u001b[37m\u001b[0m \u001b[1m86s\u001b[0m 570ms/step - accuracy: 0.7910 - auc: 0.9317 - loss: 0.4926 - precision: 0.8101 - recall: 0.7538 - val_accuracy: 0.7710 - val_auc: 0.9219 - val_loss: 0.5262 - val_precision: 0.7856 - val_recall: 0.7574 - learning_rate: 2.0000e-05\n",
            "Epoch 18/30\n",
            "\u001b[1m151/151\u001b[0m \u001b[32m━━━━━━━━━━━━━━━━━━━━\u001b[0m\u001b[37m\u001b[0m \u001b[1m86s\u001b[0m 568ms/step - accuracy: 0.7857 - auc: 0.9333 - loss: 0.4838 - precision: 0.8112 - recall: 0.7603 - val_accuracy: 0.7797 - val_auc: 0.9239 - val_loss: 0.5183 - val_precision: 0.7910 - val_recall: 0.7587 - learning_rate: 4.0000e-06\n",
            "Epoch 19/30\n",
            "\u001b[1m151/151\u001b[0m \u001b[32m━━━━━━━━━━━━━━━━━━━━\u001b[0m\u001b[37m\u001b[0m \u001b[1m88s\u001b[0m 580ms/step - accuracy: 0.8005 - auc: 0.9398 - loss: 0.4615 - precision: 0.8205 - recall: 0.7748 - val_accuracy: 0.7748 - val_auc: 0.9234 - val_loss: 0.5189 - val_precision: 0.7866 - val_recall: 0.7574 - learning_rate: 4.0000e-06\n"
          ]
        }
      ],
      "source": [
        "history = model.fit( # Este método inicia el proceso de entrenamiento de la red neuronal.\n",
        "    train_ds,        # Dataset de entrenamiento: Aquí le pasamos los datos que el modelo usará para aprender.\n",
        "                     # train_ds ya está preprocesado, aumentado, normalizado y optimizado para el rendimiento.\n",
        "    validation_data=val_ds, # Dataset de validación: Estos datos se usan para monitorear el rendimiento del modelo\n",
        "                            # en datos \"nuevos\" (no vistos durante el entrenamiento principal).\n",
        "                            # Ayuda a detectar el sobreajuste.\n",
        "    epochs=30,       # Número de épocas: Es la cantidad de veces que el modelo verá (y aprenderá de) todo el dataset de entrenamiento.\n",
        "                     # En cada época, el modelo procesa todos los lotes de datos y ajusta sus pesos.\n",
        "    callbacks=[early_stop, reduce_lr, checkpoint] # Callbacks: Aquí le pasamos la lista de \"asistentes\" que configuramos antes.\n",
        "                                                # Estos callbacks realizarán acciones automáticas durante el entrenamiento:\n",
        "                                                # - `early_stop`: Detendrá el entrenamiento si el modelo deja de mejorar en los datos de validación.\n",
        "                                                # - `reduce_lr`: Reducirá la tasa de aprendizaje si el modelo se estanca.\n",
        "                                                # - `checkpoint`: Guardará la mejor versión del modelo encontrada hasta el momento.\n",
        ")"
      ]
    },
    {
      "cell_type": "markdown",
      "source": [
        "Este código es un estándar para visualizar el progreso de tu modelo durante el entrenamiento. Toma los datos recopilados por Keras y los convierte en gráficos fáciles de entender.\n",
        "\n",
        "Visualización del Entrenamiento: plot_training"
      ],
      "metadata": {
        "id": "NxLP1o7DjHmX"
      },
      "id": "NxLP1o7DjHmX"
    },
    {
      "cell_type": "markdown",
      "source": [
        "Este script crea dos gráficos muy importantes para analizar el proceso de entrenamiento de tu red neuronal:\n",
        "\n",
        "Gráfico de Precisión: Muestra cómo la precisión del modelo (qué tan bien clasifica) mejora a lo largo de las épocas, tanto para los datos que vio (entrenamiento) como para los que no vio (validación).\n",
        "Gráfico de Pérdida: Muestra cómo la pérdida (el error) del modelo disminuye a lo largo de las épocas, también para entrenamiento y validación.\n",
        "¿Por qué son importantes estos gráficos?\n",
        "Detectar Sobreajuste (Overfitting): Si la precisión de entrenamiento sigue subiendo mientras la precisión de validación se estanca o baja, y la pérdida de entrenamiento baja mientras la de validación sube, ¡es una señal clara de que tu modelo está sobreajustándose! Está memorizando los datos de entrenamiento en lugar de aprender a generalizar.\n",
        "Evaluar la Convergencia: Te permite ver si tu modelo está aprendiendo y si la pérdida se está estabilizando.\n",
        "Ajustar Hiperparámetros: Viendo estos gráficos, puedes decidir si necesitas más épocas, ajustar la tasa de aprendizaje, añadir más regularización (como Dropout), o cambiar la arquitectura del modelo."
      ],
      "metadata": {
        "id": "ItjKF-usjXsU"
      },
      "id": "ItjKF-usjXsU"
    },
    {
      "cell_type": "code",
      "execution_count": null,
      "id": "efde48fb",
      "metadata": {
        "id": "efde48fb",
        "outputId": "b2e4e27e-263b-4c3d-a6fa-581724af42c8"
      },
      "outputs": [
        {
          "data": {
            "image/png": "[encoded data removed]",
            "text/plain": [
              "<Figure size 1200x500 with 2 Axes>"
            ]
          },
          "metadata": {},
          "output_type": "display_data"
        }
      ],
      "source": [
        "import matplotlib.pyplot as plt # Importa la librería Matplotlib para crear gráficos.\n",
        "\n",
        "def plot_training(history): # Define una función llamada 'plot_training' que toma el objeto 'history' (del model.fit())\n",
        "    # Extrae los datos de precisión y pérdida del historial de entrenamiento\n",
        "    acc = history.history['accuracy']     # Precisión en el conjunto de entrenamiento en cada época.\n",
        "    val_acc = history.history['val_accuracy'] # Precisión en el conjunto de validación en cada época.\n",
        "    loss = history.history['loss']       # Pérdida en el conjunto de entrenamiento en cada época.\n",
        "    val_loss = history.history['val_loss']   # Pérdida en el conjunto de validación en cada época.\n",
        "\n",
        "    plt.figure(figsize=(12, 5)) # Crea una figura grande para contener dos gráficos.\n",
        "\n",
        "    # --- Primer Gráfico: Curva de Precisión ---\n",
        "    plt.subplot(1, 2, 1) # Crea un subgráfico: 1 fila, 2 columnas, este es el 1ro.\n",
        "    plt.plot(acc, label='Entrenamiento') # Dibuja la precisión del entrenamiento.\n",
        "    plt.plot(val_acc, label='Validación') # Dibuja la precisión de la validación.\n",
        "    plt.title('Precisión por época')     # Título del gráfico.\n",
        "    plt.xlabel('Épocas')                 # Etiqueta del eje X.\n",
        "    plt.ylabel('Precisión')              # Etiqueta del eje Y.\n",
        "    plt.legend()                         # Muestra la leyenda (Entrenamiento/Validación).\n",
        "\n",
        "    # --- Segundo Gráfico: Curva de Pérdida ---\n",
        "    plt.subplot(1, 2, 2) # Crea el segundo subgráfico: 1 fila, 2 columnas, este es el 2do.\n",
        "    plt.plot(loss, label='Entrenamiento') # Dibuja la pérdida del entrenamiento.\n",
        "    plt.plot(val_loss, label='Validación') # Dibuja la pérdida de la validación.\n",
        "    plt.title('Pérdida por época')       # Título del gráfico.\n",
        "    plt.xlabel('Épocas')                   # Etiqueta del eje X.\n",
        "    plt.ylabel('Pérdida')                # Etiqueta del eje Y.\n",
        "    plt.legend()                           # Muestra la leyenda.\n",
        "\n",
        "    plt.tight_layout() # Ajusta automáticamente los parámetros del subgráfico para que encajen en el área de la figura.\n",
        "    plt.show()         # Muestra los gráficos.\n",
        "\n",
        "# Mostrar curvas (Esto es cómo llamas a la función para que dibuje los gráficos)\n",
        "plot_training(history) # Pasas el objeto 'history' que obtuviste de model.fit() a la función."
      ]
    },
    {
      "cell_type": "code",
      "execution_count": null,
      "id": "e1dd1699",
      "metadata": {
        "id": "e1dd1699",
        "outputId": "4513dd92-59c9-4d43-edc7-27f7f0cf4cae"
      },
      "outputs": [
        {
          "name": "stderr",
          "output_type": "stream",
          "text": [
            "WARNING:absl:You are saving your model as an HDF5 file via `model.save()` or `keras.saving.save_model(model)`. This file format is considered legacy. We recommend using instead the native Keras format, e.g. `model.save('my_model.keras')` or `keras.saving.save_model(model, 'my_model.keras')`. \n"
          ]
        },
        {
          "name": "stdout",
          "output_type": "stream",
          "text": [
            "✅ Modelo guardado como 'modelo_neumonia.h5'\n"
          ]
        }
      ],
      "source": [
        "model.save(\"modelo_neumonia_3.h5\")\n",
        "print(\"✅ Modelo guardado como 'modelo_neumonia.h5'\")"
      ]
    },
    {
      "cell_type": "markdown",
      "source": [
        "Este bloque de código se encarga de cargar y preparar tus imágenes de prueba para que tu modelo de red neuronal pueda evaluarlas correctamente. Utiliza ImageDataGenerator de Keras, una herramienta muy útil para manejar grandes colecciones de imágenes que no caben en la memoria.\n",
        "\n",
        "Preparación de Datos de Prueba con ImageDataGenerator\n",
        "\n",
        "¿Qué hace este código en pocas palabras?\n",
        "Este código crea un generador de datos (test_generator) que:\n",
        "\n",
        "Encuentra tus imágenes de prueba: Busca en la carpeta test_dir subcarpetas que representan tus clases (por ejemplo, test/NORMAL/ y test/PNEUMONIA/).\n",
        "Prepara las imágenes:\n",
        "Normaliza los valores de los píxeles de cada imagen (de 0-255 a 0.0-1.0).\n",
        "Redimensiona todas las imágenes al tamaño (224, 224) que espera tu red neuronal.\n",
        "Entrega los datos en lotes: Cuando se le pide, no carga todas las imágenes a la vez (lo que podría agotar la memoria), sino que las entrega en lotes de 32 imágenes.\n",
        "Codifica las etiquetas: Convierte las etiquetas de las clases a un formato que la red entiende (one-hot encoding).\n",
        "Mantiene el orden: No mezcla las imágenes, lo cual es importante para la evaluación y análisis de resultados de prueba.\n",
        "Este test_generator se pasará luego al método model.evaluate() o model.predict() para probar el rendimiento final de tu modelo entrenado.\n"
      ],
      "metadata": {
        "id": "CEi1Los0jmUN"
      },
      "id": "CEi1Los0jmUN"
    },
    {
      "cell_type": "code",
      "execution_count": null,
      "id": "ca602fbd",
      "metadata": {
        "id": "ca602fbd",
        "outputId": "96640fcf-12f2-45b5-ad84-bad61e9aab88"
      },
      "outputs": [
        {
          "name": "stdout",
          "output_type": "stream",
          "text": [
            "Found 624 images belonging to 3 classes.\n"
          ]
        }
      ],
      "source": [
        "from tensorflow.keras.preprocessing.image import ImageDataGenerator # Importa la clase ImageDataGenerator.\n",
        "\n",
        "test_dir = \"C:/Users/Javier/Desktop/Proyecto_Neumonia/data/chest_xray/test\" # Define la ruta a la carpeta donde se encuentran tus imágenes de prueba.\n",
        "                                                                           # Asegúrate de que esta ruta sea correcta en tu sistema.\n",
        "\n",
        "datagen_test = ImageDataGenerator(rescale=1./255) # Crea una instancia de ImageDataGenerator para los datos de prueba.\n",
        "                                                 # rescale=1./255: Es crucial. Normaliza los valores de los píxeles\n",
        "                                                 #                de 0-255 a un rango de 0.0-1.0. Las redes neuronales\n",
        "                                                 #                funcionan mucho mejor con estos valores normalizados.\n",
        "\n",
        "test_generator = datagen_test.flow_from_directory( # Este método es la \"magia\" para cargar imágenes desde carpetas.\n",
        "    test_dir,                                      # La ruta base donde están las subcarpetas de tus clases (ej. 'NORMAL', 'PNEUMONIA').\n",
        "    target_size=(224, 224),                        # Redimensiona todas las imágenes a este tamaño. Debe coincidir con el\n",
        "                                                   # tamaño de entrada esperado por tu modelo (el que definiste en `Input(shape=(224, 224, 3))`).\n",
        "    batch_size=32,                                 # El número de imágenes que se procesarán en cada \"lote\" o \"batch\"\n",
        "                                                   # durante la evaluación del modelo.\n",
        "    class_mode='categorical',                      # Define cómo se codificarán las etiquetas de las clases.\n",
        "                                                   # 'categorical' significa que las etiquetas se convertirán a formato\n",
        "                                                   # one-hot encoding (ej., para 3 clases: [1,0,0], [0,1,0], [0,0,1]).\n",
        "                                                   # Esto es necesario si tu capa de salida usa 'softmax' y tu función\n",
        "                                                   # de pérdida es 'CategoricalCrossentropy'.\n",
        "    shuffle=False                                  # Desactiva la mezcla de las imágenes. Para el conjunto de prueba,\n",
        "                                                   # no queremos que los datos se mezclen, ya que necesitamos\n",
        "                                                   # mantener un orden consistente para evaluar el modelo y,\n",
        "                                                   # quizás, comparar predicciones con los nombres de archivo.\n",
        ")"
      ]
    },
    {
      "cell_type": "markdown",
      "source": [
        "Predicción y Preparación para la Evaluación\n",
        "Qué hace este código en pocas palabras?\n",
        "Predice: Usa tu modelo entrenado (model) para que genere predicciones sobre todas las imágenes del conjunto de prueba (test_generator).\n",
        "Traduce Predicciones: Convierte las probabilidades que da el modelo (por ejemplo, \"80% perro, 15% gato, 5% pájaro\") en una única clase predicha (por ejemplo, \"perro\"), seleccionando la que tiene la probabilidad más alta.\n",
        "Obtiene la Verdad: Recopila las etiquetas reales de las imágenes de prueba.\n",
        "Nombra las Clases: Guarda los nombres de las clases (como 'NORMAL', 'PNEUMONIA') para que puedas entender los resultados (en lugar de solo ver números como 0, 1, 2).\n",
        "Con y_pred (lo que el modelo predijo) y y_true (lo que realmente era), ahora tienes todo listo para calcular métricas de evaluación detalladas como la matriz de confusión, precisión, recall, F1-score, etc., y entender el rendimiento real de tu modelo."
      ],
      "metadata": {
        "id": "S7PNn8PukRTW"
      },
      "id": "S7PNn8PukRTW"
    },
    {
      "cell_type": "code",
      "execution_count": null,
      "id": "6fe1e25d",
      "metadata": {
        "id": "6fe1e25d",
        "outputId": "8d5f4045-4121-43f8-bb0b-12d691f85f62"
      },
      "outputs": [
        {
          "name": "stderr",
          "output_type": "stream",
          "text": [
            "c:\\Users\\Javier\\.virtualenvs\\LittleLemon-zoWj-mv7\\Lib\\site-packages\\keras\\src\\trainers\\data_adapters\\py_dataset_adapter.py:121: UserWarning: Your `PyDataset` class should call `super().__init__(**kwargs)` in its constructor. `**kwargs` can include `workers`, `use_multiprocessing`, `max_queue_size`. Do not pass these arguments to `fit()`, as they will be ignored.\n",
            "  self._warn_if_super_not_called()\n"
          ]
        },
        {
          "name": "stdout",
          "output_type": "stream",
          "text": [
            "\u001b[1m20/20\u001b[0m \u001b[32m━━━━━━━━━━━━━━━━━━━━\u001b[0m\u001b[37m\u001b[0m \u001b[1m7s\u001b[0m 336ms/step\n"
          ]
        }
      ],
      "source": [
        "import numpy as np # Importa NumPy, una librería fundamental para operaciones numéricas en Python.\n",
        "\n",
        "# Obtenemos las predicciones del modelo\n",
        "predictions = model.predict(test_generator) # Le pide al modelo entrenado que haga predicciones sobre las imágenes del test_generator.\n",
        "                                           # El test_generator entrega las imágenes en lotes y el modelo devuelve un array de probabilidades.\n",
        "                                           # predictions contendrá algo como [[0.1, 0.2, 0.7], [0.9, 0.05, 0.05], ...]\n",
        "                                           # donde cada sub-array son las probabilidades para las 3 clases.\n",
        "\n",
        "y_pred = np.argmax(predictions, axis=1)    # Transforma las probabilidades de predicción en la clase predicha (el índice de la clase con la probabilidad más alta).\n",
        "                                           # Por ejemplo, si predictions es [[0.1, 0.2, 0.7]], np.argmax(..., axis=1) devolverá 2 (el índice de 0.7).\n",
        "                                           # y_pred será un array de enteros como [2, 0, 1, 2, ...], representando las clases predichas.\n",
        "\n",
        "# Etiquetas verdaderas\n",
        "y_true = test_generator.classes            # Obtiene las etiquetas verdaderas (las respuestas correctas) de las imágenes en el test_generator.\n",
        "                                           # Estas son las clases reales a las que pertenece cada imagen en tu conjunto de prueba.\n",
        "                                           # y_true será un array de enteros como [2, 0, 1, 1, ...], representando las clases reales.\n",
        "\n",
        "# Nombres de las clases\n",
        "class_names = list(test_generator.class_indices.keys()) # Obtiene los nombres de las clases (ej. 'NORMAL', 'PNEUMONIA')\n",
        "                                                        # a partir del generador de datos. Esto es útil para imprimir resultados\n",
        "                                                        # y entender qué representa cada índice numérico de clase."
      ]
    },
    {
      "cell_type": "markdown",
      "source": [
        "\n",
        "Evaluación Detallada del Modelo\n",
        "Este código se encarga de importar las librerías necesarias para el análisis, y luego genera dos de los informes más importantes para evaluar un modelo de clasificación: el Reporte de Clasificación y la Matriz de Confusión."
      ],
      "metadata": {
        "id": "gZ0_low0klyF"
      },
      "id": "gZ0_low0klyF"
    },
    {
      "cell_type": "code",
      "execution_count": null,
      "id": "b4dfa01c",
      "metadata": {
        "id": "b4dfa01c",
        "outputId": "5e5418a4-8eb0-4617-f8d5-db7b9c9265b7"
      },
      "outputs": [
        {
          "name": "stdout",
          "output_type": "stream",
          "text": [
            "Classification Report:\n",
            "                     precision    recall  f1-score   support\n",
            "\n",
            "BACTERIAL_PNEUMONIA       0.68      0.96      0.79       242\n",
            "             NORMAL       0.96      0.50      0.66       234\n",
            "    VIRAL_PNEUMONIA       0.58      0.63      0.60       148\n",
            "\n",
            "           accuracy                           0.71       624\n",
            "          macro avg       0.74      0.70      0.69       624\n",
            "       weighted avg       0.76      0.71      0.70       624\n",
            "\n"
          ]
        },
        {
          "data": {
            "image/png": "[encoded data removed]",
            "text/plain": [
              "<Figure size 600x500 with 2 Axes>"
            ]
          },
          "metadata": {},
          "output_type": "display_data"
        }
      ],
      "source": [
        "from sklearn.metrics import classification_report, confusion_matrix # Importa funciones clave para evaluación de modelos desde scikit-learn.\n",
        "import seaborn as sns # Importa Seaborn, una librería para visualización de datos, ideal para matrices de confusión.\n",
        "import matplotlib.pyplot as plt # Importa Matplotlib para crear y mostrar gráficos.\n",
        "\n",
        "# --- Reporte detallado por clase ---\n",
        "print(\"Classification Report:\") # Imprime un título para el reporte.\n",
        "print(classification_report(y_true, y_pred, target_names=class_names))\n",
        "# 'classification_report': Genera un resumen de métricas clave (Precision, Recall, F1-Score, Support)\n",
        "#                          para cada clase individualmente, y también el promedio general.\n",
        "# 'y_true': Las etiquetas reales/verdaderas de tus datos de prueba (lo que son realmente las imágenes).\n",
        "# 'y_pred': Las etiquetas predichas por tu modelo para esos mismos datos de prueba.\n",
        "# 'target_names=class_names': Asigna los nombres de las clases (ej., 'NORMAL', 'PNEUMONIA') a los resultados\n",
        "#                              para que el reporte sea fácil de leer y entender.\n",
        "\n",
        "# --- Matriz de confusión ---\n",
        "cm = confusion_matrix(y_true, y_pred) # 'confusion_matrix': Calcula una tabla que muestra cuántas predicciones\n",
        "                                      #                   fueron correctas e incorrectas para cada clase.\n",
        "                                      #                   Es la base para entender dónde el modelo se confunde.\n",
        "\n",
        "plt.figure(figsize=(6, 5)) # Crea una figura para el gráfico, con un tamaño específico (ancho x alto).\n",
        "sns.heatmap(cm, # 'heatmap': Dibuja la matriz de confusión como un mapa de calor visual.\n",
        "            annot=True, # 'annot=True': Muestra los números de las celdas en el mapa de calor (el recuento de predicciones).\n",
        "            fmt=\"d\",    # 'fmt=\"d\"': Formatea los números como enteros (dígitos).\n",
        "            cmap=\"Blues\", # 'cmap=\"Blues\"': Elige un esquema de color azul para el mapa de calor.\n",
        "            xticklabels=class_names, # 'xticklabels': Asigna los nombres de las clases a las etiquetas del eje X (predicciones).\n",
        "            yticklabels=class_names) # 'yticklabels': Asigna los nombres de las clases a las etiquetas del eje Y (reales).\n",
        "plt.xlabel(\"Predicted\") # Etiqueta del eje X.\n",
        "plt.ylabel(\"Actual\")    # Etiqueta del eje Y.\n",
        "plt.title(\"Matriz de Confusión\") # Título del gráfico.\n",
        "plt.show() # Muestra el gráfico generado."
      ]
    },
    {
      "cell_type": "markdown",
      "source": [
        "Conclusiones Clave de Esta Matriz:\n",
        "Fuerza en la Detección de BACTERIAL_PNEUMONIA (cuando es bacteriana): El modelo es bastante bueno identificando la neumonía bacteriana cuando realmente es esa clase (232 aciertos de 242 casos reales, si sumamos 232+4+6).\n",
        "Mayor Problema: Clasificar NORMAL: El modelo tiene una alta tasa de falsos positivos para las clases de neumonía. Es decir, muchas imágenes normales son clasificadas incorrectamente como neumonía (56 como bacteriana, 61 como viral). Esto es lo más preocupante.\n",
        "Confusión entre PNEUMONIA_BACTERIAL y PNEUMONIA_VIRAL: El modelo confunde significativamente la neumonía bacteriana con la viral y viceversa (6 casos de BACTERIAL como VIRAL, y 54 casos de VIRAL como BACTERIAL). Esto es un \"falso negativo\" para una subtipo de neumonía y un \"falso positivo\" para el otro, pero el diagnóstico general de \"neumonía\" se mantiene.\n",
        "En resumen: Tu modelo parece ser más propenso a decir que hay neumonía (tanto bacteriana como viral) cuando en realidad no la hay (confundiendo normales con neumonías), y también tiene dificultades para distinguir entre los dos tipos de neumonía. El punto más crítico a mejorar sería reducir las clasificaciones erróneas de NORMAL a cualquier tipo de neumonía."
      ],
      "metadata": {
        "id": "DUcgrXi2pImf"
      },
      "id": "DUcgrXi2pImf"
    },
    {
      "cell_type": "code",
      "source": [],
      "metadata": {
        "id": "kU7iTSSTp7f5"
      },
      "id": "kU7iTSSTp7f5",
      "execution_count": null,
      "outputs": []
    },
    {
      "cell_type": "markdown",
      "source": [
        "Resumen y Conclusiones del Reporte:\n",
        "El reporte confirma lo que ya veíamos en la matriz de confusión:\n",
        "\n",
        "- Muy buen recall para BACTERIAL_PNEUMONIA (0.96): El modelo es excelente en detectar los casos de neumonía bacteriana. Esto es bueno para no \"perderse\" casos de esta enfermedad.\n",
        "- Pobre recall para NORMAL (0.50): Este es el principal problema. Tu modelo está clasificando erróneamente la mitad de las imágenes normales como neumonía (falsos positivos de neumonía). En un contexto médico, esto generaría muchas \"alarmas falsas\".\n",
        "- Rendimiento moderado para VIRAL_PNEUMONIA: El modelo tiene un rendimiento decente, pero con espacio para mejorar, tanto en precisión como en recall.\n",
        "- Confusiones Inter-Neumonía: Aunque no se ve directamente aquí, la combinación de precisiones más bajas y recalls más altos (o viceversa) para las clases de neumonía suele indicar que el modelo confunde los subtipos entre sí (bacteriana vs. viral).\n",
        "\n",
        "Próximos pasos para mejorar: Enfocarse en reducir los falsos positivos para las clases de neumonía, es decir, mejorar el recall de la clase NORMAL. Esto podría implicar: más datos de entrenamiento para la clase NORMAL, más aumento de datos específicos, ajustar el umbral de decisión del clasificador, o reevaluar la función de pérdida si es un problema de costo de error."
      ],
      "metadata": {
        "id": "XrU-WFO2psY8"
      },
      "id": "XrU-WFO2psY8"
    }
  ],
  "metadata": {
    "kernelspec": {
      "display_name": "LittleLemon-zoWj-mv7",
      "language": "python",
      "name": "python3"
    },
    "language_info": {
      "codemirror_mode": {
        "name": "ipython",
        "version": 3
      },
      "file_extension": ".py",
      "mimetype": "text/x-python",
      "name": "python",
      "nbconvert_exporter": "python",
      "pygments_lexer": "ipython3",
      "version": "3.12.2"
    },
    "colab": {
      "provenance": [],
      "include_colab_link": true
    }
  },
  "nbformat": 4,
  "nbformat_minor": 5
}